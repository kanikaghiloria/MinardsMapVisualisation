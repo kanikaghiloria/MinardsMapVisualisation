{
  "nbformat": 4,
  "nbformat_minor": 0,
  "metadata": {
    "colab": {
      "name": "DataVisualisation_A1-2_Minard'sMap.ipynb",
      "provenance": [],
      "collapsed_sections": []
    },
    "kernelspec": {
      "name": "python3",
      "display_name": "Python 3"
    }
  },
  "cells": [
    {
      "cell_type": "code",
      "metadata": {
        "id": "dy6azfjgc_oB",
        "colab_type": "code",
        "outputId": "91f746e7-d4ea-4f04-f9c1-614d58c85d9a",
        "colab": {
          "base_uri": "https://localhost:8080/",
          "height": 35
        }
      },
      "source": [
        "from google.colab import drive\n",
        "drive.mount('/content/drive')"
      ],
      "execution_count": 0,
      "outputs": [
        {
          "output_type": "stream",
          "text": [
            "Drive already mounted at /content/drive; to attempt to forcibly remount, call drive.mount(\"/content/drive\", force_remount=True).\n"
          ],
          "name": "stdout"
        }
      ]
    },
    {
      "cell_type": "code",
      "metadata": {
        "id": "h4im-SmsfD77",
        "colab_type": "code",
        "colab": {}
      },
      "source": [
        "import pandas as pd\n",
        "import altair as alt\n",
        "import numpy as np"
      ],
      "execution_count": 0,
      "outputs": []
    },
    {
      "cell_type": "code",
      "metadata": {
        "id": "4Uypd0RSfK43",
        "colab_type": "code",
        "colab": {}
      },
      "source": [
        "# Reading Dataset\n",
        "dataset = pd.read_excel(\"/content/drive/My Drive/Colab Notebooks/minard-data.xlsx\")\n",
        "dataset = dataset.fillna(\"\")"
      ],
      "execution_count": 0,
      "outputs": []
    },
    {
      "cell_type": "code",
      "metadata": {
        "id": "Bo3y5I8WfOHT",
        "colab_type": "code",
        "colab": {}
      },
      "source": [
        "# Extracting the dataset of cities\n",
        "cities = pd.DataFrame()\n",
        "cities[[\"Longitude\", \"Latitude\", \"City\"]] = dataset[[\"LONC\", \"LATC\", \"CITY\"]]\n",
        "cities = cities[cities['Longitude'] != \"\"]\n",
        "# cities.head()"
      ],
      "execution_count": 0,
      "outputs": []
    },
    {
      "cell_type": "code",
      "metadata": {
        "id": "sQPShz-6fYld",
        "colab_type": "code",
        "colab": {}
      },
      "source": [
        "# Extracting the dataset of temperature\n",
        "temperature = pd.DataFrame()\n",
        "temperature[['Longitude','Temperature', 'NumberOfDays', 'Month', 'Day']] = dataset[['LONT', 'TEMP', 'DAYS', 'MON', 'DAY']]\n",
        "temperature = temperature[temperature['Longitude'] != \"\"]\n",
        "\n",
        "# temperature.head()"
      ],
      "execution_count": 0,
      "outputs": []
    },
    {
      "cell_type": "code",
      "metadata": {
        "id": "-6MGYDsXfeNk",
        "colab_type": "code",
        "colab": {}
      },
      "source": [
        "# Extracting the dataset of the survivors\n",
        "survivors = pd.DataFrame()\n",
        "survivors[['Longitude', 'Latitude', 'NumberOfSurvivors', 'Direction', 'Division']] = dataset[['LONP', 'LATP',\t'SURV',\t'DIR',\t'DIV']]\n",
        "# survivors.head()"
      ],
      "execution_count": 0,
      "outputs": []
    },
    {
      "cell_type": "code",
      "metadata": {
        "id": "5j53anW_7Odd",
        "colab_type": "code",
        "colab": {}
      },
      "source": [
        "# Creating a different dataset to add text for the number of survivors\n",
        "numberOfSurvivors = pd.DataFrame()\n",
        "numberOfSurvivors[['Longitude', 'Latitude', 'NumberOfSurvivors','Direction', 'Division']] = survivors[['Longitude', 'Latitude', 'NumberOfSurvivors','Direction','Division']]\n",
        "# numberOfSurvivors['Latitude'] += 10.0\n",
        "# numberOfSurvivors.head()                                                                                    "
      ],
      "execution_count": 0,
      "outputs": []
    },
    {
      "cell_type": "code",
      "metadata": {
        "id": "thgmc-MH7sCI",
        "colab_type": "code",
        "colab": {}
      },
      "source": [
        "# Only keeping the unique values of number of survivors\n",
        "numberOfSurvivors.drop_duplicates(subset='NumberOfSurvivors', keep='first', inplace=True)\n",
        "# numberOfSurvivors"
      ],
      "execution_count": 0,
      "outputs": []
    },
    {
      "cell_type": "code",
      "metadata": {
        "id": "kXlC-CYbuUj1",
        "colab_type": "code",
        "outputId": "659e0f64-bca7-4b90-a681-b448301af712",
        "colab": {
          "base_uri": "https://localhost:8080/",
          "height": 331
        }
      },
      "source": [
        "# Creating a chart using trail for number of survivors for Arrival and return\n",
        "survivorsChart = alt.Chart(survivors).mark_trail().encode(\n",
        "    longitude='Longitude', \n",
        "    latitude='Latitude', \n",
        "    size=alt.Size(\n",
        "        \"NumberOfSurvivors\",\n",
        "        scale=alt.Scale(range=[1,40]),\n",
        "        ),\n",
        "    detail=\"Division\",\n",
        "    color=alt.Color(\n",
        "        'Direction', \n",
        "        scale=alt.Scale(\n",
        "            domain=['A','R'], range=['#f0b548', '#b6fade']\n",
        "            )\n",
        "        )\n",
        ")\n",
        "survivorsChart"
      ],
      "execution_count": 0,
      "outputs": [
        {
          "output_type": "execute_result",
          "data": {
            "text/plain": [
              "alt.Chart(...)"
            ],
            "text/html": [
              "\n",
              "<div id=\"altair-viz-d25e1d60462247c198f58df482c9cee2\"></div>\n",
              "<script type=\"text/javascript\">\n",
              "  (function(spec, embedOpt){\n",
              "    const outputDiv = document.getElementById(\"altair-viz-d25e1d60462247c198f58df482c9cee2\");\n",
              "    const paths = {\n",
              "      \"vega\": \"https://cdn.jsdelivr.net/npm//vega@5?noext\",\n",
              "      \"vega-lib\": \"https://cdn.jsdelivr.net/npm//vega-lib?noext\",\n",
              "      \"vega-lite\": \"https://cdn.jsdelivr.net/npm//vega-lite@4.0.2?noext\",\n",
              "      \"vega-embed\": \"https://cdn.jsdelivr.net/npm//vega-embed@6?noext\",\n",
              "    };\n",
              "\n",
              "    function loadScript(lib) {\n",
              "      return new Promise(function(resolve, reject) {\n",
              "        var s = document.createElement('script');\n",
              "        s.src = paths[lib];\n",
              "        s.async = true;\n",
              "        s.onload = () => resolve(paths[lib]);\n",
              "        s.onerror = () => reject(`Error loading script: ${paths[lib]}`);\n",
              "        document.getElementsByTagName(\"head\")[0].appendChild(s);\n",
              "      });\n",
              "    }\n",
              "\n",
              "    function showError(err) {\n",
              "      outputDiv.innerHTML = `<div class=\"error\" style=\"color:red;\">${err}</div>`;\n",
              "      throw err;\n",
              "    }\n",
              "\n",
              "    function displayChart(vegaEmbed) {\n",
              "      vegaEmbed(outputDiv, spec, embedOpt)\n",
              "        .catch(err => showError(`Javascript Error: ${err.message}<br>This usually means there's a typo in your chart specification. See the javascript console for the full traceback.`));\n",
              "    }\n",
              "\n",
              "    if(typeof define === \"function\" && define.amd) {\n",
              "      requirejs.config({paths});\n",
              "      require([\"vega-embed\"], displayChart, err => showError(`Error loading script: ${err.message}`));\n",
              "    } else if (typeof vegaEmbed === \"function\") {\n",
              "      displayChart(vegaEmbed);\n",
              "    } else {\n",
              "      loadScript(\"vega\")\n",
              "        .then(() => loadScript(\"vega-lite\"))\n",
              "        .then(() => loadScript(\"vega-embed\"))\n",
              "        .catch(showError)\n",
              "        .then(() => displayChart(vegaEmbed));\n",
              "    }\n",
              "  })({\"config\": {\"view\": {\"continuousWidth\": 400, \"continuousHeight\": 300}}, \"data\": {\"name\": \"data-77ccabc3d78316077c4e8791be6592d1\"}, \"mark\": \"trail\", \"encoding\": {\"color\": {\"type\": \"nominal\", \"field\": \"Direction\", \"scale\": {\"domain\": [\"A\", \"R\"], \"range\": [\"#f0b548\", \"#b6fade\"]}}, \"detail\": {\"type\": \"quantitative\", \"field\": \"Division\"}, \"latitude\": {\"field\": \"Latitude\", \"type\": \"quantitative\"}, \"longitude\": {\"field\": \"Longitude\", \"type\": \"quantitative\"}, \"size\": {\"type\": \"quantitative\", \"field\": \"NumberOfSurvivors\", \"scale\": {\"range\": [1, 40]}}}, \"$schema\": \"https://vega.github.io/schema/vega-lite/v4.0.2.json\", \"datasets\": {\"data-77ccabc3d78316077c4e8791be6592d1\": [{\"Longitude\": 24.0, \"Latitude\": 54.9, \"NumberOfSurvivors\": 340000, \"Direction\": \"A\", \"Division\": 1}, {\"Longitude\": 24.5, \"Latitude\": 55.0, \"NumberOfSurvivors\": 340000, \"Direction\": \"A\", \"Division\": 1}, {\"Longitude\": 25.5, \"Latitude\": 54.5, \"NumberOfSurvivors\": 340000, \"Direction\": \"A\", \"Division\": 1}, {\"Longitude\": 26.0, \"Latitude\": 54.7, \"NumberOfSurvivors\": 320000, \"Direction\": \"A\", \"Division\": 1}, {\"Longitude\": 27.0, \"Latitude\": 54.8, \"NumberOfSurvivors\": 300000, \"Direction\": \"A\", \"Division\": 1}, {\"Longitude\": 28.0, \"Latitude\": 54.9, \"NumberOfSurvivors\": 280000, \"Direction\": \"A\", \"Division\": 1}, {\"Longitude\": 28.5, \"Latitude\": 55.0, \"NumberOfSurvivors\": 240000, \"Direction\": \"A\", \"Division\": 1}, {\"Longitude\": 29.0, \"Latitude\": 55.1, \"NumberOfSurvivors\": 210000, \"Direction\": \"A\", \"Division\": 1}, {\"Longitude\": 30.0, \"Latitude\": 55.2, \"NumberOfSurvivors\": 180000, \"Direction\": \"A\", \"Division\": 1}, {\"Longitude\": 30.3, \"Latitude\": 55.3, \"NumberOfSurvivors\": 175000, \"Direction\": \"A\", \"Division\": 1}, {\"Longitude\": 32.0, \"Latitude\": 54.8, \"NumberOfSurvivors\": 145000, \"Direction\": \"A\", \"Division\": 1}, {\"Longitude\": 33.2, \"Latitude\": 54.9, \"NumberOfSurvivors\": 140000, \"Direction\": \"A\", \"Division\": 1}, {\"Longitude\": 34.4, \"Latitude\": 55.5, \"NumberOfSurvivors\": 127100, \"Direction\": \"A\", \"Division\": 1}, {\"Longitude\": 35.5, \"Latitude\": 55.4, \"NumberOfSurvivors\": 100000, \"Direction\": \"A\", \"Division\": 1}, {\"Longitude\": 36.0, \"Latitude\": 55.5, \"NumberOfSurvivors\": 100000, \"Direction\": \"A\", \"Division\": 1}, {\"Longitude\": 37.6, \"Latitude\": 55.8, \"NumberOfSurvivors\": 100000, \"Direction\": \"A\", \"Division\": 1}, {\"Longitude\": 37.6, \"Latitude\": 55.8, \"NumberOfSurvivors\": 100000, \"Direction\": \"R\", \"Division\": 1}, {\"Longitude\": 37.5, \"Latitude\": 55.7, \"NumberOfSurvivors\": 98000, \"Direction\": \"R\", \"Division\": 1}, {\"Longitude\": 37.0, \"Latitude\": 55.0, \"NumberOfSurvivors\": 97000, \"Direction\": \"R\", \"Division\": 1}, {\"Longitude\": 36.8, \"Latitude\": 55.0, \"NumberOfSurvivors\": 96000, \"Direction\": \"R\", \"Division\": 1}, {\"Longitude\": 35.4, \"Latitude\": 55.3, \"NumberOfSurvivors\": 87000, \"Direction\": \"R\", \"Division\": 1}, {\"Longitude\": 34.3, \"Latitude\": 55.2, \"NumberOfSurvivors\": 55000, \"Direction\": \"R\", \"Division\": 1}, {\"Longitude\": 33.3, \"Latitude\": 54.8, \"NumberOfSurvivors\": 37000, \"Direction\": \"R\", \"Division\": 1}, {\"Longitude\": 32.0, \"Latitude\": 54.6, \"NumberOfSurvivors\": 24000, \"Direction\": \"R\", \"Division\": 1}, {\"Longitude\": 30.4, \"Latitude\": 54.4, \"NumberOfSurvivors\": 20000, \"Direction\": \"R\", \"Division\": 1}, {\"Longitude\": 29.2, \"Latitude\": 54.4, \"NumberOfSurvivors\": 20000, \"Direction\": \"R\", \"Division\": 1}, {\"Longitude\": 28.5, \"Latitude\": 54.3, \"NumberOfSurvivors\": 20000, \"Direction\": \"R\", \"Division\": 1}, {\"Longitude\": 28.3, \"Latitude\": 54.4, \"NumberOfSurvivors\": 20000, \"Direction\": \"R\", \"Division\": 1}, {\"Longitude\": 24.0, \"Latitude\": 55.1, \"NumberOfSurvivors\": 60000, \"Direction\": \"A\", \"Division\": 2}, {\"Longitude\": 24.5, \"Latitude\": 55.2, \"NumberOfSurvivors\": 60000, \"Direction\": \"A\", \"Division\": 2}, {\"Longitude\": 25.5, \"Latitude\": 54.7, \"NumberOfSurvivors\": 60000, \"Direction\": \"A\", \"Division\": 2}, {\"Longitude\": 26.6, \"Latitude\": 55.7, \"NumberOfSurvivors\": 40000, \"Direction\": \"A\", \"Division\": 2}, {\"Longitude\": 27.4, \"Latitude\": 55.6, \"NumberOfSurvivors\": 33000, \"Direction\": \"A\", \"Division\": 2}, {\"Longitude\": 28.7, \"Latitude\": 55.5, \"NumberOfSurvivors\": 30000, \"Direction\": \"A\", \"Division\": 2}, {\"Longitude\": 28.7, \"Latitude\": 55.5, \"NumberOfSurvivors\": 30000, \"Direction\": \"R\", \"Division\": 2}, {\"Longitude\": 29.2, \"Latitude\": 54.3, \"NumberOfSurvivors\": 30000, \"Direction\": \"R\", \"Division\": 2}, {\"Longitude\": 28.5, \"Latitude\": 54.2, \"NumberOfSurvivors\": 30000, \"Direction\": \"R\", \"Division\": 2}, {\"Longitude\": 28.3, \"Latitude\": 54.3, \"NumberOfSurvivors\": 28000, \"Direction\": \"R\", \"Division\": 2}, {\"Longitude\": 27.5, \"Latitude\": 54.5, \"NumberOfSurvivors\": 20000, \"Direction\": \"R\", \"Division\": 2}, {\"Longitude\": 26.8, \"Latitude\": 54.3, \"NumberOfSurvivors\": 12000, \"Direction\": \"R\", \"Division\": 2}, {\"Longitude\": 26.4, \"Latitude\": 54.4, \"NumberOfSurvivors\": 14000, \"Direction\": \"R\", \"Division\": 2}, {\"Longitude\": 24.6, \"Latitude\": 54.5, \"NumberOfSurvivors\": 8000, \"Direction\": \"R\", \"Division\": 2}, {\"Longitude\": 24.4, \"Latitude\": 54.4, \"NumberOfSurvivors\": 4000, \"Direction\": \"R\", \"Division\": 2}, {\"Longitude\": 24.2, \"Latitude\": 54.4, \"NumberOfSurvivors\": 4000, \"Direction\": \"R\", \"Division\": 2}, {\"Longitude\": 24.1, \"Latitude\": 54.3, \"NumberOfSurvivors\": 4000, \"Direction\": \"R\", \"Division\": 2}, {\"Longitude\": 24.0, \"Latitude\": 55.2, \"NumberOfSurvivors\": 22000, \"Direction\": \"A\", \"Division\": 3}, {\"Longitude\": 24.5, \"Latitude\": 55.3, \"NumberOfSurvivors\": 22000, \"Direction\": \"A\", \"Division\": 3}, {\"Longitude\": 24.6, \"Latitude\": 55.8, \"NumberOfSurvivors\": 6000, \"Direction\": \"A\", \"Division\": 3}, {\"Longitude\": 24.6, \"Latitude\": 55.8, \"NumberOfSurvivors\": 6000, \"Direction\": \"R\", \"Division\": 3}, {\"Longitude\": 24.2, \"Latitude\": 54.4, \"NumberOfSurvivors\": 6000, \"Direction\": \"R\", \"Division\": 3}, {\"Longitude\": 24.1, \"Latitude\": 54.3, \"NumberOfSurvivors\": 6000, \"Direction\": \"R\", \"Division\": 3}]}}, {\"mode\": \"vega-lite\"});\n",
              "</script>"
            ]
          },
          "metadata": {
            "tags": []
          },
          "execution_count": 652
        }
      ]
    },
    {
      "cell_type": "code",
      "metadata": {
        "id": "80fM5sDAU9TZ",
        "colab_type": "code",
        "colab": {}
      },
      "source": [
        "# survivors = survivors.sort_values(by=[\"Division\", \"NumberOfSurvivors\"], ascending=False)"
      ],
      "execution_count": 0,
      "outputs": []
    },
    {
      "cell_type": "code",
      "metadata": {
        "id": "q42OEoH5UHxb",
        "colab_type": "code",
        "colab": {}
      },
      "source": [
        "# # Creating a chart using trail for number of survivors for Arrival and return\n",
        "# survivorsChart = alt.Chart(survivors).mark_trail().encode(\n",
        "#     longitude='Longitude', \n",
        "#     latitude='Latitude', \n",
        "#     size=alt.Size(\n",
        "#         \"NumberOfSurvivors\",\n",
        "#         scale=alt.Scale(range=[1,40]),\n",
        "#         ),\n",
        "#     detail=\"Division\",\n",
        "#     color=alt.Color(\n",
        "#         'Division', \n",
        "#         scale=alt.Scale(\n",
        "#             domain=[1,2, 3], range=['#f0b548', '#b6fade', '#6e68d9']\n",
        "#             )\n",
        "#         )\n",
        "# )\n",
        "# survivorsChart"
      ],
      "execution_count": 0,
      "outputs": []
    },
    {
      "cell_type": "code",
      "metadata": {
        "id": "-UzCcjwL1C3L",
        "colab_type": "code",
        "outputId": "a838d297-3c85-4cfa-81e7-68d2cc30f459",
        "colab": {
          "base_uri": "https://localhost:8080/",
          "height": 331
        }
      },
      "source": [
        "# Creating a chart for cities to visualise them as text\n",
        "citiesChart = alt.Chart(cities).mark_text(\n",
        "    fontSize=8,\n",
        "    dx =-10,\n",
        "    # color='#fffcfc'\n",
        ").encode(\n",
        "    longitude='Longitude',\n",
        "    latitude='Latitude',\n",
        "    text='City'\n",
        ")\n",
        "# citiesChart = citiesChart.properties (width=600)\n",
        "citiesChart"
      ],
      "execution_count": 0,
      "outputs": [
        {
          "output_type": "execute_result",
          "data": {
            "text/plain": [
              "alt.Chart(...)"
            ],
            "text/html": [
              "\n",
              "<div id=\"altair-viz-14e28cbab6fd430bb00fc2e4d8b2e4d7\"></div>\n",
              "<script type=\"text/javascript\">\n",
              "  (function(spec, embedOpt){\n",
              "    const outputDiv = document.getElementById(\"altair-viz-14e28cbab6fd430bb00fc2e4d8b2e4d7\");\n",
              "    const paths = {\n",
              "      \"vega\": \"https://cdn.jsdelivr.net/npm//vega@5?noext\",\n",
              "      \"vega-lib\": \"https://cdn.jsdelivr.net/npm//vega-lib?noext\",\n",
              "      \"vega-lite\": \"https://cdn.jsdelivr.net/npm//vega-lite@4.0.2?noext\",\n",
              "      \"vega-embed\": \"https://cdn.jsdelivr.net/npm//vega-embed@6?noext\",\n",
              "    };\n",
              "\n",
              "    function loadScript(lib) {\n",
              "      return new Promise(function(resolve, reject) {\n",
              "        var s = document.createElement('script');\n",
              "        s.src = paths[lib];\n",
              "        s.async = true;\n",
              "        s.onload = () => resolve(paths[lib]);\n",
              "        s.onerror = () => reject(`Error loading script: ${paths[lib]}`);\n",
              "        document.getElementsByTagName(\"head\")[0].appendChild(s);\n",
              "      });\n",
              "    }\n",
              "\n",
              "    function showError(err) {\n",
              "      outputDiv.innerHTML = `<div class=\"error\" style=\"color:red;\">${err}</div>`;\n",
              "      throw err;\n",
              "    }\n",
              "\n",
              "    function displayChart(vegaEmbed) {\n",
              "      vegaEmbed(outputDiv, spec, embedOpt)\n",
              "        .catch(err => showError(`Javascript Error: ${err.message}<br>This usually means there's a typo in your chart specification. See the javascript console for the full traceback.`));\n",
              "    }\n",
              "\n",
              "    if(typeof define === \"function\" && define.amd) {\n",
              "      requirejs.config({paths});\n",
              "      require([\"vega-embed\"], displayChart, err => showError(`Error loading script: ${err.message}`));\n",
              "    } else if (typeof vegaEmbed === \"function\") {\n",
              "      displayChart(vegaEmbed);\n",
              "    } else {\n",
              "      loadScript(\"vega\")\n",
              "        .then(() => loadScript(\"vega-lite\"))\n",
              "        .then(() => loadScript(\"vega-embed\"))\n",
              "        .catch(showError)\n",
              "        .then(() => displayChart(vegaEmbed));\n",
              "    }\n",
              "  })({\"config\": {\"view\": {\"continuousWidth\": 400, \"continuousHeight\": 300}}, \"data\": {\"name\": \"data-05bda699ac888751286acca2e579e85b\"}, \"mark\": {\"type\": \"text\", \"dx\": -10, \"fontSize\": 8}, \"encoding\": {\"latitude\": {\"field\": \"Latitude\", \"type\": \"quantitative\"}, \"longitude\": {\"field\": \"Longitude\", \"type\": \"quantitative\"}, \"text\": {\"type\": \"nominal\", \"field\": \"City\"}}, \"$schema\": \"https://vega.github.io/schema/vega-lite/v4.0.2.json\", \"datasets\": {\"data-05bda699ac888751286acca2e579e85b\": [{\"Longitude\": 24.0, \"Latitude\": 55.0, \"City\": \"Kowno\"}, {\"Longitude\": 25.3, \"Latitude\": 54.7, \"City\": \"Wilna\"}, {\"Longitude\": 26.4, \"Latitude\": 54.4, \"City\": \"Smorgoni\"}, {\"Longitude\": 26.8, \"Latitude\": 54.3, \"City\": \"Molodexno\"}, {\"Longitude\": 27.7, \"Latitude\": 55.2, \"City\": \"Gloubokoe\"}, {\"Longitude\": 27.6, \"Latitude\": 53.9, \"City\": \"Minsk\"}, {\"Longitude\": 28.5, \"Latitude\": 54.3, \"City\": \"Studienska\"}, {\"Longitude\": 28.7, \"Latitude\": 55.5, \"City\": \"Polotzk\"}, {\"Longitude\": 29.2, \"Latitude\": 54.4, \"City\": \"Bobr\"}, {\"Longitude\": 30.2, \"Latitude\": 55.3, \"City\": \"Witebsk\"}, {\"Longitude\": 30.4, \"Latitude\": 54.5, \"City\": \"Orscha\"}, {\"Longitude\": 30.4, \"Latitude\": 53.9, \"City\": \"Mohilow\"}, {\"Longitude\": 32.0, \"Latitude\": 54.8, \"City\": \"Smolensk\"}, {\"Longitude\": 33.2, \"Latitude\": 54.9, \"City\": \"Dorogobouge\"}, {\"Longitude\": 34.3, \"Latitude\": 55.2, \"City\": \"Wixma\"}, {\"Longitude\": 34.4, \"Latitude\": 55.5, \"City\": \"Chjat\"}, {\"Longitude\": 34.4, \"Latitude\": 55.5, \"City\": \"Chjat\"}, {\"Longitude\": 36.0, \"Latitude\": 55.5, \"City\": \"Mojaisk\"}, {\"Longitude\": 37.6, \"Latitude\": 55.8, \"City\": \"Moscou\"}, {\"Longitude\": 36.6, \"Latitude\": 55.3, \"City\": \"Tarantino\"}, {\"Longitude\": 36.5, \"Latitude\": 55.0, \"City\": \"Malo-jarosewli\"}]}}, {\"mode\": \"vega-lite\"});\n",
              "</script>"
            ]
          },
          "metadata": {
            "tags": []
          },
          "execution_count": 655
        }
      ]
    },
    {
      "cell_type": "code",
      "metadata": {
        "id": "6OCt0tUkBdzg",
        "colab_type": "code",
        "colab": {}
      },
      "source": [
        "numberOfSurvivors[\"Longitude\"] += 0.15 * (numberOfSurvivors[\"Division\"])\n",
        "numberOfSurvivors[\"Latitude\"] += numberOfSurvivors[\"Direction\"].replace({\"A\": 0.35, \"R\": -0.22})"
      ],
      "execution_count": 0,
      "outputs": []
    },
    {
      "cell_type": "code",
      "metadata": {
        "id": "8_Z4PN-P3eLk",
        "colab_type": "code",
        "outputId": "86aaf075-4548-4140-bff9-e8fca09efd84",
        "colab": {
          "base_uri": "https://localhost:8080/",
          "height": 331
        }
      },
      "source": [
        "# Creating a chart for the number of survivors to visualise them as text\n",
        "numberOfSurvivorsChart = alt.Chart(numberOfSurvivors).mark_text(\n",
        "    fontSize=8,\n",
        "    # color='#fffcfc',\n",
        "    angle=280,\n",
        "    dx = -5,\n",
        "    dy = -5\n",
        ").encode(\n",
        "    longitude='Longitude',\n",
        "    latitude='Latitude',\n",
        "    text='NumberOfSurvivors'\n",
        ")\n",
        "# numberOfSurvivorsChart = numberOfSurvivorsChart.properties (width=600)\n",
        "numberOfSurvivorsChart"
      ],
      "execution_count": 0,
      "outputs": [
        {
          "output_type": "execute_result",
          "data": {
            "text/plain": [
              "alt.Chart(...)"
            ],
            "text/html": [
              "\n",
              "<div id=\"altair-viz-ec0f24d9de314341b9bd9cad6447f05f\"></div>\n",
              "<script type=\"text/javascript\">\n",
              "  (function(spec, embedOpt){\n",
              "    const outputDiv = document.getElementById(\"altair-viz-ec0f24d9de314341b9bd9cad6447f05f\");\n",
              "    const paths = {\n",
              "      \"vega\": \"https://cdn.jsdelivr.net/npm//vega@5?noext\",\n",
              "      \"vega-lib\": \"https://cdn.jsdelivr.net/npm//vega-lib?noext\",\n",
              "      \"vega-lite\": \"https://cdn.jsdelivr.net/npm//vega-lite@4.0.2?noext\",\n",
              "      \"vega-embed\": \"https://cdn.jsdelivr.net/npm//vega-embed@6?noext\",\n",
              "    };\n",
              "\n",
              "    function loadScript(lib) {\n",
              "      return new Promise(function(resolve, reject) {\n",
              "        var s = document.createElement('script');\n",
              "        s.src = paths[lib];\n",
              "        s.async = true;\n",
              "        s.onload = () => resolve(paths[lib]);\n",
              "        s.onerror = () => reject(`Error loading script: ${paths[lib]}`);\n",
              "        document.getElementsByTagName(\"head\")[0].appendChild(s);\n",
              "      });\n",
              "    }\n",
              "\n",
              "    function showError(err) {\n",
              "      outputDiv.innerHTML = `<div class=\"error\" style=\"color:red;\">${err}</div>`;\n",
              "      throw err;\n",
              "    }\n",
              "\n",
              "    function displayChart(vegaEmbed) {\n",
              "      vegaEmbed(outputDiv, spec, embedOpt)\n",
              "        .catch(err => showError(`Javascript Error: ${err.message}<br>This usually means there's a typo in your chart specification. See the javascript console for the full traceback.`));\n",
              "    }\n",
              "\n",
              "    if(typeof define === \"function\" && define.amd) {\n",
              "      requirejs.config({paths});\n",
              "      require([\"vega-embed\"], displayChart, err => showError(`Error loading script: ${err.message}`));\n",
              "    } else if (typeof vegaEmbed === \"function\") {\n",
              "      displayChart(vegaEmbed);\n",
              "    } else {\n",
              "      loadScript(\"vega\")\n",
              "        .then(() => loadScript(\"vega-lite\"))\n",
              "        .then(() => loadScript(\"vega-embed\"))\n",
              "        .catch(showError)\n",
              "        .then(() => displayChart(vegaEmbed));\n",
              "    }\n",
              "  })({\"config\": {\"view\": {\"continuousWidth\": 400, \"continuousHeight\": 300}}, \"data\": {\"name\": \"data-5efd882f71e77286c248089869a9ff7c\"}, \"mark\": {\"type\": \"text\", \"angle\": 280, \"dx\": -5, \"dy\": -5, \"fontSize\": 8}, \"encoding\": {\"latitude\": {\"field\": \"Latitude\", \"type\": \"quantitative\"}, \"longitude\": {\"field\": \"Longitude\", \"type\": \"quantitative\"}, \"text\": {\"type\": \"quantitative\", \"field\": \"NumberOfSurvivors\"}}, \"$schema\": \"https://vega.github.io/schema/vega-lite/v4.0.2.json\", \"datasets\": {\"data-5efd882f71e77286c248089869a9ff7c\": [{\"Longitude\": 24.15, \"Latitude\": 55.25, \"NumberOfSurvivors\": 340000, \"Direction\": \"A\", \"Division\": 1}, {\"Longitude\": 26.15, \"Latitude\": 55.050000000000004, \"NumberOfSurvivors\": 320000, \"Direction\": \"A\", \"Division\": 1}, {\"Longitude\": 27.15, \"Latitude\": 55.15, \"NumberOfSurvivors\": 300000, \"Direction\": \"A\", \"Division\": 1}, {\"Longitude\": 28.15, \"Latitude\": 55.25, \"NumberOfSurvivors\": 280000, \"Direction\": \"A\", \"Division\": 1}, {\"Longitude\": 28.65, \"Latitude\": 55.35, \"NumberOfSurvivors\": 240000, \"Direction\": \"A\", \"Division\": 1}, {\"Longitude\": 29.15, \"Latitude\": 55.45, \"NumberOfSurvivors\": 210000, \"Direction\": \"A\", \"Division\": 1}, {\"Longitude\": 30.15, \"Latitude\": 55.550000000000004, \"NumberOfSurvivors\": 180000, \"Direction\": \"A\", \"Division\": 1}, {\"Longitude\": 30.45, \"Latitude\": 55.65, \"NumberOfSurvivors\": 175000, \"Direction\": \"A\", \"Division\": 1}, {\"Longitude\": 32.15, \"Latitude\": 55.15, \"NumberOfSurvivors\": 145000, \"Direction\": \"A\", \"Division\": 1}, {\"Longitude\": 33.35, \"Latitude\": 55.25, \"NumberOfSurvivors\": 140000, \"Direction\": \"A\", \"Division\": 1}, {\"Longitude\": 34.55, \"Latitude\": 55.85, \"NumberOfSurvivors\": 127100, \"Direction\": \"A\", \"Division\": 1}, {\"Longitude\": 35.65, \"Latitude\": 55.75, \"NumberOfSurvivors\": 100000, \"Direction\": \"A\", \"Division\": 1}, {\"Longitude\": 37.65, \"Latitude\": 55.480000000000004, \"NumberOfSurvivors\": 98000, \"Direction\": \"R\", \"Division\": 1}, {\"Longitude\": 37.15, \"Latitude\": 54.78, \"NumberOfSurvivors\": 97000, \"Direction\": \"R\", \"Division\": 1}, {\"Longitude\": 36.949999999999996, \"Latitude\": 54.78, \"NumberOfSurvivors\": 96000, \"Direction\": \"R\", \"Division\": 1}, {\"Longitude\": 35.55, \"Latitude\": 55.08, \"NumberOfSurvivors\": 87000, \"Direction\": \"R\", \"Division\": 1}, {\"Longitude\": 34.449999999999996, \"Latitude\": 54.980000000000004, \"NumberOfSurvivors\": 55000, \"Direction\": \"R\", \"Division\": 1}, {\"Longitude\": 33.449999999999996, \"Latitude\": 54.58, \"NumberOfSurvivors\": 37000, \"Direction\": \"R\", \"Division\": 1}, {\"Longitude\": 32.15, \"Latitude\": 54.38, \"NumberOfSurvivors\": 24000, \"Direction\": \"R\", \"Division\": 1}, {\"Longitude\": 30.549999999999997, \"Latitude\": 54.18, \"NumberOfSurvivors\": 20000, \"Direction\": \"R\", \"Division\": 1}, {\"Longitude\": 24.3, \"Latitude\": 55.45, \"NumberOfSurvivors\": 60000, \"Direction\": \"A\", \"Division\": 2}, {\"Longitude\": 26.900000000000002, \"Latitude\": 56.050000000000004, \"NumberOfSurvivors\": 40000, \"Direction\": \"A\", \"Division\": 2}, {\"Longitude\": 27.7, \"Latitude\": 55.95, \"NumberOfSurvivors\": 33000, \"Direction\": \"A\", \"Division\": 2}, {\"Longitude\": 29.0, \"Latitude\": 55.85, \"NumberOfSurvivors\": 30000, \"Direction\": \"A\", \"Division\": 2}, {\"Longitude\": 28.6, \"Latitude\": 54.08, \"NumberOfSurvivors\": 28000, \"Direction\": \"R\", \"Division\": 2}, {\"Longitude\": 27.1, \"Latitude\": 54.08, \"NumberOfSurvivors\": 12000, \"Direction\": \"R\", \"Division\": 2}, {\"Longitude\": 26.7, \"Latitude\": 54.18, \"NumberOfSurvivors\": 14000, \"Direction\": \"R\", \"Division\": 2}, {\"Longitude\": 24.900000000000002, \"Latitude\": 54.28, \"NumberOfSurvivors\": 8000, \"Direction\": \"R\", \"Division\": 2}, {\"Longitude\": 24.7, \"Latitude\": 54.18, \"NumberOfSurvivors\": 4000, \"Direction\": \"R\", \"Division\": 2}, {\"Longitude\": 24.45, \"Latitude\": 55.550000000000004, \"NumberOfSurvivors\": 22000, \"Direction\": \"A\", \"Division\": 3}, {\"Longitude\": 25.05, \"Latitude\": 56.15, \"NumberOfSurvivors\": 6000, \"Direction\": \"A\", \"Division\": 3}]}}, {\"mode\": \"vega-lite\"});\n",
              "</script>"
            ]
          },
          "metadata": {
            "tags": []
          },
          "execution_count": 657
        }
      ]
    },
    {
      "cell_type": "code",
      "metadata": {
        "id": "0ObRfiqtrl_v",
        "colab_type": "code",
        "outputId": "b636cc4f-f50d-4813-f164-2b427f6807d6",
        "colab": {
          "base_uri": "https://localhost:8080/",
          "height": 325
        }
      },
      "source": [
        "temperature"
      ],
      "execution_count": 0,
      "outputs": [
        {
          "output_type": "execute_result",
          "data": {
            "text/html": [
              "<div>\n",
              "<style scoped>\n",
              "    .dataframe tbody tr th:only-of-type {\n",
              "        vertical-align: middle;\n",
              "    }\n",
              "\n",
              "    .dataframe tbody tr th {\n",
              "        vertical-align: top;\n",
              "    }\n",
              "\n",
              "    .dataframe thead th {\n",
              "        text-align: right;\n",
              "    }\n",
              "</style>\n",
              "<table border=\"1\" class=\"dataframe\">\n",
              "  <thead>\n",
              "    <tr style=\"text-align: right;\">\n",
              "      <th></th>\n",
              "      <th>Longitude</th>\n",
              "      <th>Temperature</th>\n",
              "      <th>NumberOfDays</th>\n",
              "      <th>Month</th>\n",
              "      <th>Day</th>\n",
              "    </tr>\n",
              "  </thead>\n",
              "  <tbody>\n",
              "    <tr>\n",
              "      <th>0</th>\n",
              "      <td>37.6</td>\n",
              "      <td>0</td>\n",
              "      <td>6</td>\n",
              "      <td>Oct</td>\n",
              "      <td>18</td>\n",
              "    </tr>\n",
              "    <tr>\n",
              "      <th>1</th>\n",
              "      <td>36</td>\n",
              "      <td>0</td>\n",
              "      <td>6</td>\n",
              "      <td>Oct</td>\n",
              "      <td>24</td>\n",
              "    </tr>\n",
              "    <tr>\n",
              "      <th>2</th>\n",
              "      <td>33.2</td>\n",
              "      <td>-9</td>\n",
              "      <td>16</td>\n",
              "      <td>Nov</td>\n",
              "      <td>9</td>\n",
              "    </tr>\n",
              "    <tr>\n",
              "      <th>3</th>\n",
              "      <td>32</td>\n",
              "      <td>-21</td>\n",
              "      <td>5</td>\n",
              "      <td>Nov</td>\n",
              "      <td>14</td>\n",
              "    </tr>\n",
              "    <tr>\n",
              "      <th>4</th>\n",
              "      <td>29.2</td>\n",
              "      <td>-11</td>\n",
              "      <td>10</td>\n",
              "      <td></td>\n",
              "      <td></td>\n",
              "    </tr>\n",
              "    <tr>\n",
              "      <th>5</th>\n",
              "      <td>28.5</td>\n",
              "      <td>-20</td>\n",
              "      <td>4</td>\n",
              "      <td>Nov</td>\n",
              "      <td>28</td>\n",
              "    </tr>\n",
              "    <tr>\n",
              "      <th>6</th>\n",
              "      <td>27.2</td>\n",
              "      <td>-24</td>\n",
              "      <td>3</td>\n",
              "      <td>Dec</td>\n",
              "      <td>1</td>\n",
              "    </tr>\n",
              "    <tr>\n",
              "      <th>7</th>\n",
              "      <td>26.7</td>\n",
              "      <td>-30</td>\n",
              "      <td>5</td>\n",
              "      <td>Dec</td>\n",
              "      <td>6</td>\n",
              "    </tr>\n",
              "    <tr>\n",
              "      <th>8</th>\n",
              "      <td>25.3</td>\n",
              "      <td>-26</td>\n",
              "      <td>1</td>\n",
              "      <td>Dec</td>\n",
              "      <td>7</td>\n",
              "    </tr>\n",
              "  </tbody>\n",
              "</table>\n",
              "</div>"
            ],
            "text/plain": [
              "  Longitude Temperature NumberOfDays Month Day\n",
              "0      37.6           0            6   Oct  18\n",
              "1        36           0            6   Oct  24\n",
              "2      33.2          -9           16   Nov   9\n",
              "3        32         -21            5   Nov  14\n",
              "4      29.2         -11           10          \n",
              "5      28.5         -20            4   Nov  28\n",
              "6      27.2         -24            3   Dec   1\n",
              "7      26.7         -30            5   Dec   6\n",
              "8      25.3         -26            1   Dec   7"
            ]
          },
          "metadata": {
            "tags": []
          },
          "execution_count": 658
        }
      ]
    },
    {
      "cell_type": "code",
      "metadata": {
        "id": "vVwZY6ufwdqr",
        "colab_type": "code",
        "colab": {}
      },
      "source": [
        "# temperature['Date'] = temperature.Month.str.cat(temperature.Day.str)\n",
        "# temperature['Date'] = temperature[['Month','Day']].agg('-'.join, axis=1).str\n",
        "# temperature['Date'] = temperature['Month'] + temperature['Day'].astype(str)"
      ],
      "execution_count": 0,
      "outputs": []
    },
    {
      "cell_type": "code",
      "metadata": {
        "id": "VmzvovyTp4vR",
        "colab_type": "code",
        "outputId": "586e4bc8-6934-4159-b1ca-09cbc7fa73cd",
        "colab": {
          "base_uri": "https://localhost:8080/",
          "height": 379
        }
      },
      "source": [
        "temperatureTextChart = alt.Chart(temperature).mark_text(\n",
        "    fontSize=8,\n",
        "    # color='#fffcfc',\n",
        "    dy=-12\n",
        "    ).encode(\n",
        "    x='Longitude',\n",
        "    y='Temperature',\n",
        "    text='Temperature'  \n",
        ")\n",
        "temperatureTextChart"
      ],
      "execution_count": 0,
      "outputs": [
        {
          "output_type": "execute_result",
          "data": {
            "text/plain": [
              "alt.Chart(...)"
            ],
            "text/html": [
              "\n",
              "<div id=\"altair-viz-d0b516be5791488780456fd24b8e16a3\"></div>\n",
              "<script type=\"text/javascript\">\n",
              "  (function(spec, embedOpt){\n",
              "    const outputDiv = document.getElementById(\"altair-viz-d0b516be5791488780456fd24b8e16a3\");\n",
              "    const paths = {\n",
              "      \"vega\": \"https://cdn.jsdelivr.net/npm//vega@5?noext\",\n",
              "      \"vega-lib\": \"https://cdn.jsdelivr.net/npm//vega-lib?noext\",\n",
              "      \"vega-lite\": \"https://cdn.jsdelivr.net/npm//vega-lite@4.0.2?noext\",\n",
              "      \"vega-embed\": \"https://cdn.jsdelivr.net/npm//vega-embed@6?noext\",\n",
              "    };\n",
              "\n",
              "    function loadScript(lib) {\n",
              "      return new Promise(function(resolve, reject) {\n",
              "        var s = document.createElement('script');\n",
              "        s.src = paths[lib];\n",
              "        s.async = true;\n",
              "        s.onload = () => resolve(paths[lib]);\n",
              "        s.onerror = () => reject(`Error loading script: ${paths[lib]}`);\n",
              "        document.getElementsByTagName(\"head\")[0].appendChild(s);\n",
              "      });\n",
              "    }\n",
              "\n",
              "    function showError(err) {\n",
              "      outputDiv.innerHTML = `<div class=\"error\" style=\"color:red;\">${err}</div>`;\n",
              "      throw err;\n",
              "    }\n",
              "\n",
              "    function displayChart(vegaEmbed) {\n",
              "      vegaEmbed(outputDiv, spec, embedOpt)\n",
              "        .catch(err => showError(`Javascript Error: ${err.message}<br>This usually means there's a typo in your chart specification. See the javascript console for the full traceback.`));\n",
              "    }\n",
              "\n",
              "    if(typeof define === \"function\" && define.amd) {\n",
              "      requirejs.config({paths});\n",
              "      require([\"vega-embed\"], displayChart, err => showError(`Error loading script: ${err.message}`));\n",
              "    } else if (typeof vegaEmbed === \"function\") {\n",
              "      displayChart(vegaEmbed);\n",
              "    } else {\n",
              "      loadScript(\"vega\")\n",
              "        .then(() => loadScript(\"vega-lite\"))\n",
              "        .then(() => loadScript(\"vega-embed\"))\n",
              "        .catch(showError)\n",
              "        .then(() => displayChart(vegaEmbed));\n",
              "    }\n",
              "  })({\"config\": {\"view\": {\"continuousWidth\": 400, \"continuousHeight\": 300}}, \"data\": {\"name\": \"data-787bd53a9f24246575e9b4bae9d55dd0\"}, \"mark\": {\"type\": \"text\", \"dy\": -12, \"fontSize\": 8}, \"encoding\": {\"text\": {\"type\": \"quantitative\", \"field\": \"Temperature\"}, \"x\": {\"type\": \"quantitative\", \"field\": \"Longitude\"}, \"y\": {\"type\": \"quantitative\", \"field\": \"Temperature\"}}, \"$schema\": \"https://vega.github.io/schema/vega-lite/v4.0.2.json\", \"datasets\": {\"data-787bd53a9f24246575e9b4bae9d55dd0\": [{\"Longitude\": 37.6, \"Temperature\": 0.0, \"NumberOfDays\": 6.0, \"Month\": \"Oct\", \"Day\": 18.0}, {\"Longitude\": 36.0, \"Temperature\": 0.0, \"NumberOfDays\": 6.0, \"Month\": \"Oct\", \"Day\": 24.0}, {\"Longitude\": 33.2, \"Temperature\": -9.0, \"NumberOfDays\": 16.0, \"Month\": \"Nov\", \"Day\": 9.0}, {\"Longitude\": 32.0, \"Temperature\": -21.0, \"NumberOfDays\": 5.0, \"Month\": \"Nov\", \"Day\": 14.0}, {\"Longitude\": 29.2, \"Temperature\": -11.0, \"NumberOfDays\": 10.0, \"Month\": \"\", \"Day\": \"\"}, {\"Longitude\": 28.5, \"Temperature\": -20.0, \"NumberOfDays\": 4.0, \"Month\": \"Nov\", \"Day\": 28.0}, {\"Longitude\": 27.2, \"Temperature\": -24.0, \"NumberOfDays\": 3.0, \"Month\": \"Dec\", \"Day\": 1.0}, {\"Longitude\": 26.7, \"Temperature\": -30.0, \"NumberOfDays\": 5.0, \"Month\": \"Dec\", \"Day\": 6.0}, {\"Longitude\": 25.3, \"Temperature\": -26.0, \"NumberOfDays\": 1.0, \"Month\": \"Dec\", \"Day\": 7.0}]}}, {\"mode\": \"vega-lite\"});\n",
              "</script>"
            ]
          },
          "metadata": {
            "tags": []
          },
          "execution_count": 660
        }
      ]
    },
    {
      "cell_type": "code",
      "metadata": {
        "id": "OVbcWQjb54Ek",
        "colab_type": "code",
        "outputId": "5d591fd8-868b-4bde-96ba-8efb6f62b361",
        "colab": {
          "base_uri": "https://localhost:8080/",
          "height": 331
        }
      },
      "source": [
        "# Superimposing the charts\n",
        "superimposedChart = survivorsChart + citiesChart + numberOfSurvivorsChart\n",
        "superimposedChart"
      ],
      "execution_count": 0,
      "outputs": [
        {
          "output_type": "execute_result",
          "data": {
            "text/plain": [
              "alt.LayerChart(...)"
            ],
            "text/html": [
              "\n",
              "<div id=\"altair-viz-c8c94684f7944dc892fd2f5ada2db008\"></div>\n",
              "<script type=\"text/javascript\">\n",
              "  (function(spec, embedOpt){\n",
              "    const outputDiv = document.getElementById(\"altair-viz-c8c94684f7944dc892fd2f5ada2db008\");\n",
              "    const paths = {\n",
              "      \"vega\": \"https://cdn.jsdelivr.net/npm//vega@5?noext\",\n",
              "      \"vega-lib\": \"https://cdn.jsdelivr.net/npm//vega-lib?noext\",\n",
              "      \"vega-lite\": \"https://cdn.jsdelivr.net/npm//vega-lite@4.0.2?noext\",\n",
              "      \"vega-embed\": \"https://cdn.jsdelivr.net/npm//vega-embed@6?noext\",\n",
              "    };\n",
              "\n",
              "    function loadScript(lib) {\n",
              "      return new Promise(function(resolve, reject) {\n",
              "        var s = document.createElement('script');\n",
              "        s.src = paths[lib];\n",
              "        s.async = true;\n",
              "        s.onload = () => resolve(paths[lib]);\n",
              "        s.onerror = () => reject(`Error loading script: ${paths[lib]}`);\n",
              "        document.getElementsByTagName(\"head\")[0].appendChild(s);\n",
              "      });\n",
              "    }\n",
              "\n",
              "    function showError(err) {\n",
              "      outputDiv.innerHTML = `<div class=\"error\" style=\"color:red;\">${err}</div>`;\n",
              "      throw err;\n",
              "    }\n",
              "\n",
              "    function displayChart(vegaEmbed) {\n",
              "      vegaEmbed(outputDiv, spec, embedOpt)\n",
              "        .catch(err => showError(`Javascript Error: ${err.message}<br>This usually means there's a typo in your chart specification. See the javascript console for the full traceback.`));\n",
              "    }\n",
              "\n",
              "    if(typeof define === \"function\" && define.amd) {\n",
              "      requirejs.config({paths});\n",
              "      require([\"vega-embed\"], displayChart, err => showError(`Error loading script: ${err.message}`));\n",
              "    } else if (typeof vegaEmbed === \"function\") {\n",
              "      displayChart(vegaEmbed);\n",
              "    } else {\n",
              "      loadScript(\"vega\")\n",
              "        .then(() => loadScript(\"vega-lite\"))\n",
              "        .then(() => loadScript(\"vega-embed\"))\n",
              "        .catch(showError)\n",
              "        .then(() => displayChart(vegaEmbed));\n",
              "    }\n",
              "  })({\"config\": {\"view\": {\"continuousWidth\": 400, \"continuousHeight\": 300}}, \"layer\": [{\"data\": {\"name\": \"data-77ccabc3d78316077c4e8791be6592d1\"}, \"mark\": \"trail\", \"encoding\": {\"color\": {\"type\": \"nominal\", \"field\": \"Direction\", \"scale\": {\"domain\": [\"A\", \"R\"], \"range\": [\"#f0b548\", \"#b6fade\"]}}, \"detail\": {\"type\": \"quantitative\", \"field\": \"Division\"}, \"latitude\": {\"field\": \"Latitude\", \"type\": \"quantitative\"}, \"longitude\": {\"field\": \"Longitude\", \"type\": \"quantitative\"}, \"size\": {\"type\": \"quantitative\", \"field\": \"NumberOfSurvivors\", \"scale\": {\"range\": [1, 40]}}}}, {\"data\": {\"name\": \"data-05bda699ac888751286acca2e579e85b\"}, \"mark\": {\"type\": \"text\", \"dx\": -10, \"fontSize\": 8}, \"encoding\": {\"latitude\": {\"field\": \"Latitude\", \"type\": \"quantitative\"}, \"longitude\": {\"field\": \"Longitude\", \"type\": \"quantitative\"}, \"text\": {\"type\": \"nominal\", \"field\": \"City\"}}}, {\"data\": {\"name\": \"data-5efd882f71e77286c248089869a9ff7c\"}, \"mark\": {\"type\": \"text\", \"angle\": 280, \"dx\": -5, \"dy\": -5, \"fontSize\": 8}, \"encoding\": {\"latitude\": {\"field\": \"Latitude\", \"type\": \"quantitative\"}, \"longitude\": {\"field\": \"Longitude\", \"type\": \"quantitative\"}, \"text\": {\"type\": \"quantitative\", \"field\": \"NumberOfSurvivors\"}}}], \"$schema\": \"https://vega.github.io/schema/vega-lite/v4.0.2.json\", \"datasets\": {\"data-77ccabc3d78316077c4e8791be6592d1\": [{\"Longitude\": 24.0, \"Latitude\": 54.9, \"NumberOfSurvivors\": 340000, \"Direction\": \"A\", \"Division\": 1}, {\"Longitude\": 24.5, \"Latitude\": 55.0, \"NumberOfSurvivors\": 340000, \"Direction\": \"A\", \"Division\": 1}, {\"Longitude\": 25.5, \"Latitude\": 54.5, \"NumberOfSurvivors\": 340000, \"Direction\": \"A\", \"Division\": 1}, {\"Longitude\": 26.0, \"Latitude\": 54.7, \"NumberOfSurvivors\": 320000, \"Direction\": \"A\", \"Division\": 1}, {\"Longitude\": 27.0, \"Latitude\": 54.8, \"NumberOfSurvivors\": 300000, \"Direction\": \"A\", \"Division\": 1}, {\"Longitude\": 28.0, \"Latitude\": 54.9, \"NumberOfSurvivors\": 280000, \"Direction\": \"A\", \"Division\": 1}, {\"Longitude\": 28.5, \"Latitude\": 55.0, \"NumberOfSurvivors\": 240000, \"Direction\": \"A\", \"Division\": 1}, {\"Longitude\": 29.0, \"Latitude\": 55.1, \"NumberOfSurvivors\": 210000, \"Direction\": \"A\", \"Division\": 1}, {\"Longitude\": 30.0, \"Latitude\": 55.2, \"NumberOfSurvivors\": 180000, \"Direction\": \"A\", \"Division\": 1}, {\"Longitude\": 30.3, \"Latitude\": 55.3, \"NumberOfSurvivors\": 175000, \"Direction\": \"A\", \"Division\": 1}, {\"Longitude\": 32.0, \"Latitude\": 54.8, \"NumberOfSurvivors\": 145000, \"Direction\": \"A\", \"Division\": 1}, {\"Longitude\": 33.2, \"Latitude\": 54.9, \"NumberOfSurvivors\": 140000, \"Direction\": \"A\", \"Division\": 1}, {\"Longitude\": 34.4, \"Latitude\": 55.5, \"NumberOfSurvivors\": 127100, \"Direction\": \"A\", \"Division\": 1}, {\"Longitude\": 35.5, \"Latitude\": 55.4, \"NumberOfSurvivors\": 100000, \"Direction\": \"A\", \"Division\": 1}, {\"Longitude\": 36.0, \"Latitude\": 55.5, \"NumberOfSurvivors\": 100000, \"Direction\": \"A\", \"Division\": 1}, {\"Longitude\": 37.6, \"Latitude\": 55.8, \"NumberOfSurvivors\": 100000, \"Direction\": \"A\", \"Division\": 1}, {\"Longitude\": 37.6, \"Latitude\": 55.8, \"NumberOfSurvivors\": 100000, \"Direction\": \"R\", \"Division\": 1}, {\"Longitude\": 37.5, \"Latitude\": 55.7, \"NumberOfSurvivors\": 98000, \"Direction\": \"R\", \"Division\": 1}, {\"Longitude\": 37.0, \"Latitude\": 55.0, \"NumberOfSurvivors\": 97000, \"Direction\": \"R\", \"Division\": 1}, {\"Longitude\": 36.8, \"Latitude\": 55.0, \"NumberOfSurvivors\": 96000, \"Direction\": \"R\", \"Division\": 1}, {\"Longitude\": 35.4, \"Latitude\": 55.3, \"NumberOfSurvivors\": 87000, \"Direction\": \"R\", \"Division\": 1}, {\"Longitude\": 34.3, \"Latitude\": 55.2, \"NumberOfSurvivors\": 55000, \"Direction\": \"R\", \"Division\": 1}, {\"Longitude\": 33.3, \"Latitude\": 54.8, \"NumberOfSurvivors\": 37000, \"Direction\": \"R\", \"Division\": 1}, {\"Longitude\": 32.0, \"Latitude\": 54.6, \"NumberOfSurvivors\": 24000, \"Direction\": \"R\", \"Division\": 1}, {\"Longitude\": 30.4, \"Latitude\": 54.4, \"NumberOfSurvivors\": 20000, \"Direction\": \"R\", \"Division\": 1}, {\"Longitude\": 29.2, \"Latitude\": 54.4, \"NumberOfSurvivors\": 20000, \"Direction\": \"R\", \"Division\": 1}, {\"Longitude\": 28.5, \"Latitude\": 54.3, \"NumberOfSurvivors\": 20000, \"Direction\": \"R\", \"Division\": 1}, {\"Longitude\": 28.3, \"Latitude\": 54.4, \"NumberOfSurvivors\": 20000, \"Direction\": \"R\", \"Division\": 1}, {\"Longitude\": 24.0, \"Latitude\": 55.1, \"NumberOfSurvivors\": 60000, \"Direction\": \"A\", \"Division\": 2}, {\"Longitude\": 24.5, \"Latitude\": 55.2, \"NumberOfSurvivors\": 60000, \"Direction\": \"A\", \"Division\": 2}, {\"Longitude\": 25.5, \"Latitude\": 54.7, \"NumberOfSurvivors\": 60000, \"Direction\": \"A\", \"Division\": 2}, {\"Longitude\": 26.6, \"Latitude\": 55.7, \"NumberOfSurvivors\": 40000, \"Direction\": \"A\", \"Division\": 2}, {\"Longitude\": 27.4, \"Latitude\": 55.6, \"NumberOfSurvivors\": 33000, \"Direction\": \"A\", \"Division\": 2}, {\"Longitude\": 28.7, \"Latitude\": 55.5, \"NumberOfSurvivors\": 30000, \"Direction\": \"A\", \"Division\": 2}, {\"Longitude\": 28.7, \"Latitude\": 55.5, \"NumberOfSurvivors\": 30000, \"Direction\": \"R\", \"Division\": 2}, {\"Longitude\": 29.2, \"Latitude\": 54.3, \"NumberOfSurvivors\": 30000, \"Direction\": \"R\", \"Division\": 2}, {\"Longitude\": 28.5, \"Latitude\": 54.2, \"NumberOfSurvivors\": 30000, \"Direction\": \"R\", \"Division\": 2}, {\"Longitude\": 28.3, \"Latitude\": 54.3, \"NumberOfSurvivors\": 28000, \"Direction\": \"R\", \"Division\": 2}, {\"Longitude\": 27.5, \"Latitude\": 54.5, \"NumberOfSurvivors\": 20000, \"Direction\": \"R\", \"Division\": 2}, {\"Longitude\": 26.8, \"Latitude\": 54.3, \"NumberOfSurvivors\": 12000, \"Direction\": \"R\", \"Division\": 2}, {\"Longitude\": 26.4, \"Latitude\": 54.4, \"NumberOfSurvivors\": 14000, \"Direction\": \"R\", \"Division\": 2}, {\"Longitude\": 24.6, \"Latitude\": 54.5, \"NumberOfSurvivors\": 8000, \"Direction\": \"R\", \"Division\": 2}, {\"Longitude\": 24.4, \"Latitude\": 54.4, \"NumberOfSurvivors\": 4000, \"Direction\": \"R\", \"Division\": 2}, {\"Longitude\": 24.2, \"Latitude\": 54.4, \"NumberOfSurvivors\": 4000, \"Direction\": \"R\", \"Division\": 2}, {\"Longitude\": 24.1, \"Latitude\": 54.3, \"NumberOfSurvivors\": 4000, \"Direction\": \"R\", \"Division\": 2}, {\"Longitude\": 24.0, \"Latitude\": 55.2, \"NumberOfSurvivors\": 22000, \"Direction\": \"A\", \"Division\": 3}, {\"Longitude\": 24.5, \"Latitude\": 55.3, \"NumberOfSurvivors\": 22000, \"Direction\": \"A\", \"Division\": 3}, {\"Longitude\": 24.6, \"Latitude\": 55.8, \"NumberOfSurvivors\": 6000, \"Direction\": \"A\", \"Division\": 3}, {\"Longitude\": 24.6, \"Latitude\": 55.8, \"NumberOfSurvivors\": 6000, \"Direction\": \"R\", \"Division\": 3}, {\"Longitude\": 24.2, \"Latitude\": 54.4, \"NumberOfSurvivors\": 6000, \"Direction\": \"R\", \"Division\": 3}, {\"Longitude\": 24.1, \"Latitude\": 54.3, \"NumberOfSurvivors\": 6000, \"Direction\": \"R\", \"Division\": 3}], \"data-05bda699ac888751286acca2e579e85b\": [{\"Longitude\": 24.0, \"Latitude\": 55.0, \"City\": \"Kowno\"}, {\"Longitude\": 25.3, \"Latitude\": 54.7, \"City\": \"Wilna\"}, {\"Longitude\": 26.4, \"Latitude\": 54.4, \"City\": \"Smorgoni\"}, {\"Longitude\": 26.8, \"Latitude\": 54.3, \"City\": \"Molodexno\"}, {\"Longitude\": 27.7, \"Latitude\": 55.2, \"City\": \"Gloubokoe\"}, {\"Longitude\": 27.6, \"Latitude\": 53.9, \"City\": \"Minsk\"}, {\"Longitude\": 28.5, \"Latitude\": 54.3, \"City\": \"Studienska\"}, {\"Longitude\": 28.7, \"Latitude\": 55.5, \"City\": \"Polotzk\"}, {\"Longitude\": 29.2, \"Latitude\": 54.4, \"City\": \"Bobr\"}, {\"Longitude\": 30.2, \"Latitude\": 55.3, \"City\": \"Witebsk\"}, {\"Longitude\": 30.4, \"Latitude\": 54.5, \"City\": \"Orscha\"}, {\"Longitude\": 30.4, \"Latitude\": 53.9, \"City\": \"Mohilow\"}, {\"Longitude\": 32.0, \"Latitude\": 54.8, \"City\": \"Smolensk\"}, {\"Longitude\": 33.2, \"Latitude\": 54.9, \"City\": \"Dorogobouge\"}, {\"Longitude\": 34.3, \"Latitude\": 55.2, \"City\": \"Wixma\"}, {\"Longitude\": 34.4, \"Latitude\": 55.5, \"City\": \"Chjat\"}, {\"Longitude\": 34.4, \"Latitude\": 55.5, \"City\": \"Chjat\"}, {\"Longitude\": 36.0, \"Latitude\": 55.5, \"City\": \"Mojaisk\"}, {\"Longitude\": 37.6, \"Latitude\": 55.8, \"City\": \"Moscou\"}, {\"Longitude\": 36.6, \"Latitude\": 55.3, \"City\": \"Tarantino\"}, {\"Longitude\": 36.5, \"Latitude\": 55.0, \"City\": \"Malo-jarosewli\"}], \"data-5efd882f71e77286c248089869a9ff7c\": [{\"Longitude\": 24.15, \"Latitude\": 55.25, \"NumberOfSurvivors\": 340000, \"Direction\": \"A\", \"Division\": 1}, {\"Longitude\": 26.15, \"Latitude\": 55.050000000000004, \"NumberOfSurvivors\": 320000, \"Direction\": \"A\", \"Division\": 1}, {\"Longitude\": 27.15, \"Latitude\": 55.15, \"NumberOfSurvivors\": 300000, \"Direction\": \"A\", \"Division\": 1}, {\"Longitude\": 28.15, \"Latitude\": 55.25, \"NumberOfSurvivors\": 280000, \"Direction\": \"A\", \"Division\": 1}, {\"Longitude\": 28.65, \"Latitude\": 55.35, \"NumberOfSurvivors\": 240000, \"Direction\": \"A\", \"Division\": 1}, {\"Longitude\": 29.15, \"Latitude\": 55.45, \"NumberOfSurvivors\": 210000, \"Direction\": \"A\", \"Division\": 1}, {\"Longitude\": 30.15, \"Latitude\": 55.550000000000004, \"NumberOfSurvivors\": 180000, \"Direction\": \"A\", \"Division\": 1}, {\"Longitude\": 30.45, \"Latitude\": 55.65, \"NumberOfSurvivors\": 175000, \"Direction\": \"A\", \"Division\": 1}, {\"Longitude\": 32.15, \"Latitude\": 55.15, \"NumberOfSurvivors\": 145000, \"Direction\": \"A\", \"Division\": 1}, {\"Longitude\": 33.35, \"Latitude\": 55.25, \"NumberOfSurvivors\": 140000, \"Direction\": \"A\", \"Division\": 1}, {\"Longitude\": 34.55, \"Latitude\": 55.85, \"NumberOfSurvivors\": 127100, \"Direction\": \"A\", \"Division\": 1}, {\"Longitude\": 35.65, \"Latitude\": 55.75, \"NumberOfSurvivors\": 100000, \"Direction\": \"A\", \"Division\": 1}, {\"Longitude\": 37.65, \"Latitude\": 55.480000000000004, \"NumberOfSurvivors\": 98000, \"Direction\": \"R\", \"Division\": 1}, {\"Longitude\": 37.15, \"Latitude\": 54.78, \"NumberOfSurvivors\": 97000, \"Direction\": \"R\", \"Division\": 1}, {\"Longitude\": 36.949999999999996, \"Latitude\": 54.78, \"NumberOfSurvivors\": 96000, \"Direction\": \"R\", \"Division\": 1}, {\"Longitude\": 35.55, \"Latitude\": 55.08, \"NumberOfSurvivors\": 87000, \"Direction\": \"R\", \"Division\": 1}, {\"Longitude\": 34.449999999999996, \"Latitude\": 54.980000000000004, \"NumberOfSurvivors\": 55000, \"Direction\": \"R\", \"Division\": 1}, {\"Longitude\": 33.449999999999996, \"Latitude\": 54.58, \"NumberOfSurvivors\": 37000, \"Direction\": \"R\", \"Division\": 1}, {\"Longitude\": 32.15, \"Latitude\": 54.38, \"NumberOfSurvivors\": 24000, \"Direction\": \"R\", \"Division\": 1}, {\"Longitude\": 30.549999999999997, \"Latitude\": 54.18, \"NumberOfSurvivors\": 20000, \"Direction\": \"R\", \"Division\": 1}, {\"Longitude\": 24.3, \"Latitude\": 55.45, \"NumberOfSurvivors\": 60000, \"Direction\": \"A\", \"Division\": 2}, {\"Longitude\": 26.900000000000002, \"Latitude\": 56.050000000000004, \"NumberOfSurvivors\": 40000, \"Direction\": \"A\", \"Division\": 2}, {\"Longitude\": 27.7, \"Latitude\": 55.95, \"NumberOfSurvivors\": 33000, \"Direction\": \"A\", \"Division\": 2}, {\"Longitude\": 29.0, \"Latitude\": 55.85, \"NumberOfSurvivors\": 30000, \"Direction\": \"A\", \"Division\": 2}, {\"Longitude\": 28.6, \"Latitude\": 54.08, \"NumberOfSurvivors\": 28000, \"Direction\": \"R\", \"Division\": 2}, {\"Longitude\": 27.1, \"Latitude\": 54.08, \"NumberOfSurvivors\": 12000, \"Direction\": \"R\", \"Division\": 2}, {\"Longitude\": 26.7, \"Latitude\": 54.18, \"NumberOfSurvivors\": 14000, \"Direction\": \"R\", \"Division\": 2}, {\"Longitude\": 24.900000000000002, \"Latitude\": 54.28, \"NumberOfSurvivors\": 8000, \"Direction\": \"R\", \"Division\": 2}, {\"Longitude\": 24.7, \"Latitude\": 54.18, \"NumberOfSurvivors\": 4000, \"Direction\": \"R\", \"Division\": 2}, {\"Longitude\": 24.45, \"Latitude\": 55.550000000000004, \"NumberOfSurvivors\": 22000, \"Direction\": \"A\", \"Division\": 3}, {\"Longitude\": 25.05, \"Latitude\": 56.15, \"NumberOfSurvivors\": 6000, \"Direction\": \"A\", \"Division\": 3}]}}, {\"mode\": \"vega-lite\"});\n",
              "</script>"
            ]
          },
          "metadata": {
            "tags": []
          },
          "execution_count": 661
        }
      ]
    },
    {
      "cell_type": "code",
      "metadata": {
        "id": "LH5Se09V5MiL",
        "colab_type": "code",
        "outputId": "51473a2d-1bdd-4ede-f739-370819e610f9",
        "colab": {
          "base_uri": "https://localhost:8080/",
          "height": 218
        }
      },
      "source": [
        "# Creating a chart for temperature dataset\n",
        "temperatureChart = alt.Chart(temperature).mark_line(color='#ff0505').encode(\n",
        "    x='Longitude',\n",
        "    y='Temperature'    \n",
        ")\n",
        "temperatureChart = temperatureChart.properties (height=150)\n",
        "temperatureChart"
      ],
      "execution_count": 0,
      "outputs": [
        {
          "output_type": "execute_result",
          "data": {
            "text/plain": [
              "alt.Chart(...)"
            ],
            "text/html": [
              "\n",
              "<div id=\"altair-viz-bef7482922fe4b85b8730a67328d9f7e\"></div>\n",
              "<script type=\"text/javascript\">\n",
              "  (function(spec, embedOpt){\n",
              "    const outputDiv = document.getElementById(\"altair-viz-bef7482922fe4b85b8730a67328d9f7e\");\n",
              "    const paths = {\n",
              "      \"vega\": \"https://cdn.jsdelivr.net/npm//vega@5?noext\",\n",
              "      \"vega-lib\": \"https://cdn.jsdelivr.net/npm//vega-lib?noext\",\n",
              "      \"vega-lite\": \"https://cdn.jsdelivr.net/npm//vega-lite@4.0.2?noext\",\n",
              "      \"vega-embed\": \"https://cdn.jsdelivr.net/npm//vega-embed@6?noext\",\n",
              "    };\n",
              "\n",
              "    function loadScript(lib) {\n",
              "      return new Promise(function(resolve, reject) {\n",
              "        var s = document.createElement('script');\n",
              "        s.src = paths[lib];\n",
              "        s.async = true;\n",
              "        s.onload = () => resolve(paths[lib]);\n",
              "        s.onerror = () => reject(`Error loading script: ${paths[lib]}`);\n",
              "        document.getElementsByTagName(\"head\")[0].appendChild(s);\n",
              "      });\n",
              "    }\n",
              "\n",
              "    function showError(err) {\n",
              "      outputDiv.innerHTML = `<div class=\"error\" style=\"color:red;\">${err}</div>`;\n",
              "      throw err;\n",
              "    }\n",
              "\n",
              "    function displayChart(vegaEmbed) {\n",
              "      vegaEmbed(outputDiv, spec, embedOpt)\n",
              "        .catch(err => showError(`Javascript Error: ${err.message}<br>This usually means there's a typo in your chart specification. See the javascript console for the full traceback.`));\n",
              "    }\n",
              "\n",
              "    if(typeof define === \"function\" && define.amd) {\n",
              "      requirejs.config({paths});\n",
              "      require([\"vega-embed\"], displayChart, err => showError(`Error loading script: ${err.message}`));\n",
              "    } else if (typeof vegaEmbed === \"function\") {\n",
              "      displayChart(vegaEmbed);\n",
              "    } else {\n",
              "      loadScript(\"vega\")\n",
              "        .then(() => loadScript(\"vega-lite\"))\n",
              "        .then(() => loadScript(\"vega-embed\"))\n",
              "        .catch(showError)\n",
              "        .then(() => displayChart(vegaEmbed));\n",
              "    }\n",
              "  })({\"config\": {\"view\": {\"continuousWidth\": 400, \"continuousHeight\": 300}}, \"data\": {\"name\": \"data-787bd53a9f24246575e9b4bae9d55dd0\"}, \"mark\": {\"type\": \"line\", \"color\": \"#ff0505\"}, \"encoding\": {\"x\": {\"type\": \"quantitative\", \"field\": \"Longitude\"}, \"y\": {\"type\": \"quantitative\", \"field\": \"Temperature\"}}, \"height\": 150, \"$schema\": \"https://vega.github.io/schema/vega-lite/v4.0.2.json\", \"datasets\": {\"data-787bd53a9f24246575e9b4bae9d55dd0\": [{\"Longitude\": 37.6, \"Temperature\": 0.0, \"NumberOfDays\": 6.0, \"Month\": \"Oct\", \"Day\": 18.0}, {\"Longitude\": 36.0, \"Temperature\": 0.0, \"NumberOfDays\": 6.0, \"Month\": \"Oct\", \"Day\": 24.0}, {\"Longitude\": 33.2, \"Temperature\": -9.0, \"NumberOfDays\": 16.0, \"Month\": \"Nov\", \"Day\": 9.0}, {\"Longitude\": 32.0, \"Temperature\": -21.0, \"NumberOfDays\": 5.0, \"Month\": \"Nov\", \"Day\": 14.0}, {\"Longitude\": 29.2, \"Temperature\": -11.0, \"NumberOfDays\": 10.0, \"Month\": \"\", \"Day\": \"\"}, {\"Longitude\": 28.5, \"Temperature\": -20.0, \"NumberOfDays\": 4.0, \"Month\": \"Nov\", \"Day\": 28.0}, {\"Longitude\": 27.2, \"Temperature\": -24.0, \"NumberOfDays\": 3.0, \"Month\": \"Dec\", \"Day\": 1.0}, {\"Longitude\": 26.7, \"Temperature\": -30.0, \"NumberOfDays\": 5.0, \"Month\": \"Dec\", \"Day\": 6.0}, {\"Longitude\": 25.3, \"Temperature\": -26.0, \"NumberOfDays\": 1.0, \"Month\": \"Dec\", \"Day\": 7.0}]}}, {\"mode\": \"vega-lite\"});\n",
              "</script>"
            ]
          },
          "metadata": {
            "tags": []
          },
          "execution_count": 662
        }
      ]
    },
    {
      "cell_type": "code",
      "metadata": {
        "id": "KJDQzSdmsBAX",
        "colab_type": "code",
        "outputId": "b5571886-1fac-4c65-c8d3-2c9e6e8cfd03",
        "colab": {
          "base_uri": "https://localhost:8080/",
          "height": 229
        }
      },
      "source": [
        "finalTemperatureChart = temperatureChart +temperatureTextChart\n",
        "finalTemperatureChart"
      ],
      "execution_count": 0,
      "outputs": [
        {
          "output_type": "execute_result",
          "data": {
            "text/plain": [
              "alt.LayerChart(...)"
            ],
            "text/html": [
              "\n",
              "<div id=\"altair-viz-32f66cf8772a4d24b088c82175a2944b\"></div>\n",
              "<script type=\"text/javascript\">\n",
              "  (function(spec, embedOpt){\n",
              "    const outputDiv = document.getElementById(\"altair-viz-32f66cf8772a4d24b088c82175a2944b\");\n",
              "    const paths = {\n",
              "      \"vega\": \"https://cdn.jsdelivr.net/npm//vega@5?noext\",\n",
              "      \"vega-lib\": \"https://cdn.jsdelivr.net/npm//vega-lib?noext\",\n",
              "      \"vega-lite\": \"https://cdn.jsdelivr.net/npm//vega-lite@4.0.2?noext\",\n",
              "      \"vega-embed\": \"https://cdn.jsdelivr.net/npm//vega-embed@6?noext\",\n",
              "    };\n",
              "\n",
              "    function loadScript(lib) {\n",
              "      return new Promise(function(resolve, reject) {\n",
              "        var s = document.createElement('script');\n",
              "        s.src = paths[lib];\n",
              "        s.async = true;\n",
              "        s.onload = () => resolve(paths[lib]);\n",
              "        s.onerror = () => reject(`Error loading script: ${paths[lib]}`);\n",
              "        document.getElementsByTagName(\"head\")[0].appendChild(s);\n",
              "      });\n",
              "    }\n",
              "\n",
              "    function showError(err) {\n",
              "      outputDiv.innerHTML = `<div class=\"error\" style=\"color:red;\">${err}</div>`;\n",
              "      throw err;\n",
              "    }\n",
              "\n",
              "    function displayChart(vegaEmbed) {\n",
              "      vegaEmbed(outputDiv, spec, embedOpt)\n",
              "        .catch(err => showError(`Javascript Error: ${err.message}<br>This usually means there's a typo in your chart specification. See the javascript console for the full traceback.`));\n",
              "    }\n",
              "\n",
              "    if(typeof define === \"function\" && define.amd) {\n",
              "      requirejs.config({paths});\n",
              "      require([\"vega-embed\"], displayChart, err => showError(`Error loading script: ${err.message}`));\n",
              "    } else if (typeof vegaEmbed === \"function\") {\n",
              "      displayChart(vegaEmbed);\n",
              "    } else {\n",
              "      loadScript(\"vega\")\n",
              "        .then(() => loadScript(\"vega-lite\"))\n",
              "        .then(() => loadScript(\"vega-embed\"))\n",
              "        .catch(showError)\n",
              "        .then(() => displayChart(vegaEmbed));\n",
              "    }\n",
              "  })({\"config\": {\"view\": {\"continuousWidth\": 400, \"continuousHeight\": 300}}, \"layer\": [{\"mark\": {\"type\": \"line\", \"color\": \"#ff0505\"}, \"encoding\": {\"x\": {\"type\": \"quantitative\", \"field\": \"Longitude\"}, \"y\": {\"type\": \"quantitative\", \"field\": \"Temperature\"}}, \"height\": 150}, {\"mark\": {\"type\": \"text\", \"dy\": -12, \"fontSize\": 8}, \"encoding\": {\"text\": {\"type\": \"quantitative\", \"field\": \"Temperature\"}, \"x\": {\"type\": \"quantitative\", \"field\": \"Longitude\"}, \"y\": {\"type\": \"quantitative\", \"field\": \"Temperature\"}}}], \"data\": {\"name\": \"data-787bd53a9f24246575e9b4bae9d55dd0\"}, \"$schema\": \"https://vega.github.io/schema/vega-lite/v4.0.2.json\", \"datasets\": {\"data-787bd53a9f24246575e9b4bae9d55dd0\": [{\"Longitude\": 37.6, \"Temperature\": 0.0, \"NumberOfDays\": 6.0, \"Month\": \"Oct\", \"Day\": 18.0}, {\"Longitude\": 36.0, \"Temperature\": 0.0, \"NumberOfDays\": 6.0, \"Month\": \"Oct\", \"Day\": 24.0}, {\"Longitude\": 33.2, \"Temperature\": -9.0, \"NumberOfDays\": 16.0, \"Month\": \"Nov\", \"Day\": 9.0}, {\"Longitude\": 32.0, \"Temperature\": -21.0, \"NumberOfDays\": 5.0, \"Month\": \"Nov\", \"Day\": 14.0}, {\"Longitude\": 29.2, \"Temperature\": -11.0, \"NumberOfDays\": 10.0, \"Month\": \"\", \"Day\": \"\"}, {\"Longitude\": 28.5, \"Temperature\": -20.0, \"NumberOfDays\": 4.0, \"Month\": \"Nov\", \"Day\": 28.0}, {\"Longitude\": 27.2, \"Temperature\": -24.0, \"NumberOfDays\": 3.0, \"Month\": \"Dec\", \"Day\": 1.0}, {\"Longitude\": 26.7, \"Temperature\": -30.0, \"NumberOfDays\": 5.0, \"Month\": \"Dec\", \"Day\": 6.0}, {\"Longitude\": 25.3, \"Temperature\": -26.0, \"NumberOfDays\": 1.0, \"Month\": \"Dec\", \"Day\": 7.0}]}}, {\"mode\": \"vega-lite\"});\n",
              "</script>"
            ]
          },
          "metadata": {
            "tags": []
          },
          "execution_count": 663
        }
      ]
    },
    {
      "cell_type": "code",
      "metadata": {
        "id": "N1JRpt_fE8vf",
        "colab_type": "code",
        "outputId": "7e2694e5-cf43-497e-f79d-232795c3d340",
        "colab": {
          "base_uri": "https://localhost:8080/",
          "height": 549
        }
      },
      "source": [
        "# Combining the charts\n",
        "# minardsChart = alt.vconcat(superimposedChart, temperatureChart).configure_view(\n",
        "minardsChart = alt.vconcat(superimposedChart, finalTemperatureChart).configure_view(    \n",
        "    width=700,\n",
        "    height=300,\n",
        "    strokeWidth=0\n",
        ").configure_axis()\n",
        "\n",
        "# minardsChart.background='#0d0d0d'\n",
        "minardsChart"
      ],
      "execution_count": 0,
      "outputs": [
        {
          "output_type": "execute_result",
          "data": {
            "text/plain": [
              "alt.VConcatChart(...)"
            ],
            "text/html": [
              "\n",
              "<div id=\"altair-viz-ac91d543c99e40ad856e2e095b5ff16a\"></div>\n",
              "<script type=\"text/javascript\">\n",
              "  (function(spec, embedOpt){\n",
              "    const outputDiv = document.getElementById(\"altair-viz-ac91d543c99e40ad856e2e095b5ff16a\");\n",
              "    const paths = {\n",
              "      \"vega\": \"https://cdn.jsdelivr.net/npm//vega@5?noext\",\n",
              "      \"vega-lib\": \"https://cdn.jsdelivr.net/npm//vega-lib?noext\",\n",
              "      \"vega-lite\": \"https://cdn.jsdelivr.net/npm//vega-lite@4.0.2?noext\",\n",
              "      \"vega-embed\": \"https://cdn.jsdelivr.net/npm//vega-embed@6?noext\",\n",
              "    };\n",
              "\n",
              "    function loadScript(lib) {\n",
              "      return new Promise(function(resolve, reject) {\n",
              "        var s = document.createElement('script');\n",
              "        s.src = paths[lib];\n",
              "        s.async = true;\n",
              "        s.onload = () => resolve(paths[lib]);\n",
              "        s.onerror = () => reject(`Error loading script: ${paths[lib]}`);\n",
              "        document.getElementsByTagName(\"head\")[0].appendChild(s);\n",
              "      });\n",
              "    }\n",
              "\n",
              "    function showError(err) {\n",
              "      outputDiv.innerHTML = `<div class=\"error\" style=\"color:red;\">${err}</div>`;\n",
              "      throw err;\n",
              "    }\n",
              "\n",
              "    function displayChart(vegaEmbed) {\n",
              "      vegaEmbed(outputDiv, spec, embedOpt)\n",
              "        .catch(err => showError(`Javascript Error: ${err.message}<br>This usually means there's a typo in your chart specification. See the javascript console for the full traceback.`));\n",
              "    }\n",
              "\n",
              "    if(typeof define === \"function\" && define.amd) {\n",
              "      requirejs.config({paths});\n",
              "      require([\"vega-embed\"], displayChart, err => showError(`Error loading script: ${err.message}`));\n",
              "    } else if (typeof vegaEmbed === \"function\") {\n",
              "      displayChart(vegaEmbed);\n",
              "    } else {\n",
              "      loadScript(\"vega\")\n",
              "        .then(() => loadScript(\"vega-lite\"))\n",
              "        .then(() => loadScript(\"vega-embed\"))\n",
              "        .catch(showError)\n",
              "        .then(() => displayChart(vegaEmbed));\n",
              "    }\n",
              "  })({\"config\": {\"view\": {\"continuousWidth\": 400, \"continuousHeight\": 300, \"height\": 300, \"strokeWidth\": 0, \"width\": 700}, \"axis\": {}}, \"vconcat\": [{\"layer\": [{\"data\": {\"name\": \"data-77ccabc3d78316077c4e8791be6592d1\"}, \"mark\": \"trail\", \"encoding\": {\"color\": {\"type\": \"nominal\", \"field\": \"Direction\", \"scale\": {\"domain\": [\"A\", \"R\"], \"range\": [\"#f0b548\", \"#b6fade\"]}}, \"detail\": {\"type\": \"quantitative\", \"field\": \"Division\"}, \"latitude\": {\"field\": \"Latitude\", \"type\": \"quantitative\"}, \"longitude\": {\"field\": \"Longitude\", \"type\": \"quantitative\"}, \"size\": {\"type\": \"quantitative\", \"field\": \"NumberOfSurvivors\", \"scale\": {\"range\": [1, 40]}}}}, {\"data\": {\"name\": \"data-05bda699ac888751286acca2e579e85b\"}, \"mark\": {\"type\": \"text\", \"dx\": -10, \"fontSize\": 8}, \"encoding\": {\"latitude\": {\"field\": \"Latitude\", \"type\": \"quantitative\"}, \"longitude\": {\"field\": \"Longitude\", \"type\": \"quantitative\"}, \"text\": {\"type\": \"nominal\", \"field\": \"City\"}}}, {\"data\": {\"name\": \"data-5efd882f71e77286c248089869a9ff7c\"}, \"mark\": {\"type\": \"text\", \"angle\": 280, \"dx\": -5, \"dy\": -5, \"fontSize\": 8}, \"encoding\": {\"latitude\": {\"field\": \"Latitude\", \"type\": \"quantitative\"}, \"longitude\": {\"field\": \"Longitude\", \"type\": \"quantitative\"}, \"text\": {\"type\": \"quantitative\", \"field\": \"NumberOfSurvivors\"}}}]}, {\"layer\": [{\"mark\": {\"type\": \"line\", \"color\": \"#ff0505\"}, \"encoding\": {\"x\": {\"type\": \"quantitative\", \"field\": \"Longitude\"}, \"y\": {\"type\": \"quantitative\", \"field\": \"Temperature\"}}, \"height\": 150}, {\"mark\": {\"type\": \"text\", \"dy\": -12, \"fontSize\": 8}, \"encoding\": {\"text\": {\"type\": \"quantitative\", \"field\": \"Temperature\"}, \"x\": {\"type\": \"quantitative\", \"field\": \"Longitude\"}, \"y\": {\"type\": \"quantitative\", \"field\": \"Temperature\"}}}], \"data\": {\"name\": \"data-787bd53a9f24246575e9b4bae9d55dd0\"}}], \"$schema\": \"https://vega.github.io/schema/vega-lite/v4.0.2.json\", \"datasets\": {\"data-77ccabc3d78316077c4e8791be6592d1\": [{\"Longitude\": 24.0, \"Latitude\": 54.9, \"NumberOfSurvivors\": 340000, \"Direction\": \"A\", \"Division\": 1}, {\"Longitude\": 24.5, \"Latitude\": 55.0, \"NumberOfSurvivors\": 340000, \"Direction\": \"A\", \"Division\": 1}, {\"Longitude\": 25.5, \"Latitude\": 54.5, \"NumberOfSurvivors\": 340000, \"Direction\": \"A\", \"Division\": 1}, {\"Longitude\": 26.0, \"Latitude\": 54.7, \"NumberOfSurvivors\": 320000, \"Direction\": \"A\", \"Division\": 1}, {\"Longitude\": 27.0, \"Latitude\": 54.8, \"NumberOfSurvivors\": 300000, \"Direction\": \"A\", \"Division\": 1}, {\"Longitude\": 28.0, \"Latitude\": 54.9, \"NumberOfSurvivors\": 280000, \"Direction\": \"A\", \"Division\": 1}, {\"Longitude\": 28.5, \"Latitude\": 55.0, \"NumberOfSurvivors\": 240000, \"Direction\": \"A\", \"Division\": 1}, {\"Longitude\": 29.0, \"Latitude\": 55.1, \"NumberOfSurvivors\": 210000, \"Direction\": \"A\", \"Division\": 1}, {\"Longitude\": 30.0, \"Latitude\": 55.2, \"NumberOfSurvivors\": 180000, \"Direction\": \"A\", \"Division\": 1}, {\"Longitude\": 30.3, \"Latitude\": 55.3, \"NumberOfSurvivors\": 175000, \"Direction\": \"A\", \"Division\": 1}, {\"Longitude\": 32.0, \"Latitude\": 54.8, \"NumberOfSurvivors\": 145000, \"Direction\": \"A\", \"Division\": 1}, {\"Longitude\": 33.2, \"Latitude\": 54.9, \"NumberOfSurvivors\": 140000, \"Direction\": \"A\", \"Division\": 1}, {\"Longitude\": 34.4, \"Latitude\": 55.5, \"NumberOfSurvivors\": 127100, \"Direction\": \"A\", \"Division\": 1}, {\"Longitude\": 35.5, \"Latitude\": 55.4, \"NumberOfSurvivors\": 100000, \"Direction\": \"A\", \"Division\": 1}, {\"Longitude\": 36.0, \"Latitude\": 55.5, \"NumberOfSurvivors\": 100000, \"Direction\": \"A\", \"Division\": 1}, {\"Longitude\": 37.6, \"Latitude\": 55.8, \"NumberOfSurvivors\": 100000, \"Direction\": \"A\", \"Division\": 1}, {\"Longitude\": 37.6, \"Latitude\": 55.8, \"NumberOfSurvivors\": 100000, \"Direction\": \"R\", \"Division\": 1}, {\"Longitude\": 37.5, \"Latitude\": 55.7, \"NumberOfSurvivors\": 98000, \"Direction\": \"R\", \"Division\": 1}, {\"Longitude\": 37.0, \"Latitude\": 55.0, \"NumberOfSurvivors\": 97000, \"Direction\": \"R\", \"Division\": 1}, {\"Longitude\": 36.8, \"Latitude\": 55.0, \"NumberOfSurvivors\": 96000, \"Direction\": \"R\", \"Division\": 1}, {\"Longitude\": 35.4, \"Latitude\": 55.3, \"NumberOfSurvivors\": 87000, \"Direction\": \"R\", \"Division\": 1}, {\"Longitude\": 34.3, \"Latitude\": 55.2, \"NumberOfSurvivors\": 55000, \"Direction\": \"R\", \"Division\": 1}, {\"Longitude\": 33.3, \"Latitude\": 54.8, \"NumberOfSurvivors\": 37000, \"Direction\": \"R\", \"Division\": 1}, {\"Longitude\": 32.0, \"Latitude\": 54.6, \"NumberOfSurvivors\": 24000, \"Direction\": \"R\", \"Division\": 1}, {\"Longitude\": 30.4, \"Latitude\": 54.4, \"NumberOfSurvivors\": 20000, \"Direction\": \"R\", \"Division\": 1}, {\"Longitude\": 29.2, \"Latitude\": 54.4, \"NumberOfSurvivors\": 20000, \"Direction\": \"R\", \"Division\": 1}, {\"Longitude\": 28.5, \"Latitude\": 54.3, \"NumberOfSurvivors\": 20000, \"Direction\": \"R\", \"Division\": 1}, {\"Longitude\": 28.3, \"Latitude\": 54.4, \"NumberOfSurvivors\": 20000, \"Direction\": \"R\", \"Division\": 1}, {\"Longitude\": 24.0, \"Latitude\": 55.1, \"NumberOfSurvivors\": 60000, \"Direction\": \"A\", \"Division\": 2}, {\"Longitude\": 24.5, \"Latitude\": 55.2, \"NumberOfSurvivors\": 60000, \"Direction\": \"A\", \"Division\": 2}, {\"Longitude\": 25.5, \"Latitude\": 54.7, \"NumberOfSurvivors\": 60000, \"Direction\": \"A\", \"Division\": 2}, {\"Longitude\": 26.6, \"Latitude\": 55.7, \"NumberOfSurvivors\": 40000, \"Direction\": \"A\", \"Division\": 2}, {\"Longitude\": 27.4, \"Latitude\": 55.6, \"NumberOfSurvivors\": 33000, \"Direction\": \"A\", \"Division\": 2}, {\"Longitude\": 28.7, \"Latitude\": 55.5, \"NumberOfSurvivors\": 30000, \"Direction\": \"A\", \"Division\": 2}, {\"Longitude\": 28.7, \"Latitude\": 55.5, \"NumberOfSurvivors\": 30000, \"Direction\": \"R\", \"Division\": 2}, {\"Longitude\": 29.2, \"Latitude\": 54.3, \"NumberOfSurvivors\": 30000, \"Direction\": \"R\", \"Division\": 2}, {\"Longitude\": 28.5, \"Latitude\": 54.2, \"NumberOfSurvivors\": 30000, \"Direction\": \"R\", \"Division\": 2}, {\"Longitude\": 28.3, \"Latitude\": 54.3, \"NumberOfSurvivors\": 28000, \"Direction\": \"R\", \"Division\": 2}, {\"Longitude\": 27.5, \"Latitude\": 54.5, \"NumberOfSurvivors\": 20000, \"Direction\": \"R\", \"Division\": 2}, {\"Longitude\": 26.8, \"Latitude\": 54.3, \"NumberOfSurvivors\": 12000, \"Direction\": \"R\", \"Division\": 2}, {\"Longitude\": 26.4, \"Latitude\": 54.4, \"NumberOfSurvivors\": 14000, \"Direction\": \"R\", \"Division\": 2}, {\"Longitude\": 24.6, \"Latitude\": 54.5, \"NumberOfSurvivors\": 8000, \"Direction\": \"R\", \"Division\": 2}, {\"Longitude\": 24.4, \"Latitude\": 54.4, \"NumberOfSurvivors\": 4000, \"Direction\": \"R\", \"Division\": 2}, {\"Longitude\": 24.2, \"Latitude\": 54.4, \"NumberOfSurvivors\": 4000, \"Direction\": \"R\", \"Division\": 2}, {\"Longitude\": 24.1, \"Latitude\": 54.3, \"NumberOfSurvivors\": 4000, \"Direction\": \"R\", \"Division\": 2}, {\"Longitude\": 24.0, \"Latitude\": 55.2, \"NumberOfSurvivors\": 22000, \"Direction\": \"A\", \"Division\": 3}, {\"Longitude\": 24.5, \"Latitude\": 55.3, \"NumberOfSurvivors\": 22000, \"Direction\": \"A\", \"Division\": 3}, {\"Longitude\": 24.6, \"Latitude\": 55.8, \"NumberOfSurvivors\": 6000, \"Direction\": \"A\", \"Division\": 3}, {\"Longitude\": 24.6, \"Latitude\": 55.8, \"NumberOfSurvivors\": 6000, \"Direction\": \"R\", \"Division\": 3}, {\"Longitude\": 24.2, \"Latitude\": 54.4, \"NumberOfSurvivors\": 6000, \"Direction\": \"R\", \"Division\": 3}, {\"Longitude\": 24.1, \"Latitude\": 54.3, \"NumberOfSurvivors\": 6000, \"Direction\": \"R\", \"Division\": 3}], \"data-05bda699ac888751286acca2e579e85b\": [{\"Longitude\": 24.0, \"Latitude\": 55.0, \"City\": \"Kowno\"}, {\"Longitude\": 25.3, \"Latitude\": 54.7, \"City\": \"Wilna\"}, {\"Longitude\": 26.4, \"Latitude\": 54.4, \"City\": \"Smorgoni\"}, {\"Longitude\": 26.8, \"Latitude\": 54.3, \"City\": \"Molodexno\"}, {\"Longitude\": 27.7, \"Latitude\": 55.2, \"City\": \"Gloubokoe\"}, {\"Longitude\": 27.6, \"Latitude\": 53.9, \"City\": \"Minsk\"}, {\"Longitude\": 28.5, \"Latitude\": 54.3, \"City\": \"Studienska\"}, {\"Longitude\": 28.7, \"Latitude\": 55.5, \"City\": \"Polotzk\"}, {\"Longitude\": 29.2, \"Latitude\": 54.4, \"City\": \"Bobr\"}, {\"Longitude\": 30.2, \"Latitude\": 55.3, \"City\": \"Witebsk\"}, {\"Longitude\": 30.4, \"Latitude\": 54.5, \"City\": \"Orscha\"}, {\"Longitude\": 30.4, \"Latitude\": 53.9, \"City\": \"Mohilow\"}, {\"Longitude\": 32.0, \"Latitude\": 54.8, \"City\": \"Smolensk\"}, {\"Longitude\": 33.2, \"Latitude\": 54.9, \"City\": \"Dorogobouge\"}, {\"Longitude\": 34.3, \"Latitude\": 55.2, \"City\": \"Wixma\"}, {\"Longitude\": 34.4, \"Latitude\": 55.5, \"City\": \"Chjat\"}, {\"Longitude\": 34.4, \"Latitude\": 55.5, \"City\": \"Chjat\"}, {\"Longitude\": 36.0, \"Latitude\": 55.5, \"City\": \"Mojaisk\"}, {\"Longitude\": 37.6, \"Latitude\": 55.8, \"City\": \"Moscou\"}, {\"Longitude\": 36.6, \"Latitude\": 55.3, \"City\": \"Tarantino\"}, {\"Longitude\": 36.5, \"Latitude\": 55.0, \"City\": \"Malo-jarosewli\"}], \"data-5efd882f71e77286c248089869a9ff7c\": [{\"Longitude\": 24.15, \"Latitude\": 55.25, \"NumberOfSurvivors\": 340000, \"Direction\": \"A\", \"Division\": 1}, {\"Longitude\": 26.15, \"Latitude\": 55.050000000000004, \"NumberOfSurvivors\": 320000, \"Direction\": \"A\", \"Division\": 1}, {\"Longitude\": 27.15, \"Latitude\": 55.15, \"NumberOfSurvivors\": 300000, \"Direction\": \"A\", \"Division\": 1}, {\"Longitude\": 28.15, \"Latitude\": 55.25, \"NumberOfSurvivors\": 280000, \"Direction\": \"A\", \"Division\": 1}, {\"Longitude\": 28.65, \"Latitude\": 55.35, \"NumberOfSurvivors\": 240000, \"Direction\": \"A\", \"Division\": 1}, {\"Longitude\": 29.15, \"Latitude\": 55.45, \"NumberOfSurvivors\": 210000, \"Direction\": \"A\", \"Division\": 1}, {\"Longitude\": 30.15, \"Latitude\": 55.550000000000004, \"NumberOfSurvivors\": 180000, \"Direction\": \"A\", \"Division\": 1}, {\"Longitude\": 30.45, \"Latitude\": 55.65, \"NumberOfSurvivors\": 175000, \"Direction\": \"A\", \"Division\": 1}, {\"Longitude\": 32.15, \"Latitude\": 55.15, \"NumberOfSurvivors\": 145000, \"Direction\": \"A\", \"Division\": 1}, {\"Longitude\": 33.35, \"Latitude\": 55.25, \"NumberOfSurvivors\": 140000, \"Direction\": \"A\", \"Division\": 1}, {\"Longitude\": 34.55, \"Latitude\": 55.85, \"NumberOfSurvivors\": 127100, \"Direction\": \"A\", \"Division\": 1}, {\"Longitude\": 35.65, \"Latitude\": 55.75, \"NumberOfSurvivors\": 100000, \"Direction\": \"A\", \"Division\": 1}, {\"Longitude\": 37.65, \"Latitude\": 55.480000000000004, \"NumberOfSurvivors\": 98000, \"Direction\": \"R\", \"Division\": 1}, {\"Longitude\": 37.15, \"Latitude\": 54.78, \"NumberOfSurvivors\": 97000, \"Direction\": \"R\", \"Division\": 1}, {\"Longitude\": 36.949999999999996, \"Latitude\": 54.78, \"NumberOfSurvivors\": 96000, \"Direction\": \"R\", \"Division\": 1}, {\"Longitude\": 35.55, \"Latitude\": 55.08, \"NumberOfSurvivors\": 87000, \"Direction\": \"R\", \"Division\": 1}, {\"Longitude\": 34.449999999999996, \"Latitude\": 54.980000000000004, \"NumberOfSurvivors\": 55000, \"Direction\": \"R\", \"Division\": 1}, {\"Longitude\": 33.449999999999996, \"Latitude\": 54.58, \"NumberOfSurvivors\": 37000, \"Direction\": \"R\", \"Division\": 1}, {\"Longitude\": 32.15, \"Latitude\": 54.38, \"NumberOfSurvivors\": 24000, \"Direction\": \"R\", \"Division\": 1}, {\"Longitude\": 30.549999999999997, \"Latitude\": 54.18, \"NumberOfSurvivors\": 20000, \"Direction\": \"R\", \"Division\": 1}, {\"Longitude\": 24.3, \"Latitude\": 55.45, \"NumberOfSurvivors\": 60000, \"Direction\": \"A\", \"Division\": 2}, {\"Longitude\": 26.900000000000002, \"Latitude\": 56.050000000000004, \"NumberOfSurvivors\": 40000, \"Direction\": \"A\", \"Division\": 2}, {\"Longitude\": 27.7, \"Latitude\": 55.95, \"NumberOfSurvivors\": 33000, \"Direction\": \"A\", \"Division\": 2}, {\"Longitude\": 29.0, \"Latitude\": 55.85, \"NumberOfSurvivors\": 30000, \"Direction\": \"A\", \"Division\": 2}, {\"Longitude\": 28.6, \"Latitude\": 54.08, \"NumberOfSurvivors\": 28000, \"Direction\": \"R\", \"Division\": 2}, {\"Longitude\": 27.1, \"Latitude\": 54.08, \"NumberOfSurvivors\": 12000, \"Direction\": \"R\", \"Division\": 2}, {\"Longitude\": 26.7, \"Latitude\": 54.18, \"NumberOfSurvivors\": 14000, \"Direction\": \"R\", \"Division\": 2}, {\"Longitude\": 24.900000000000002, \"Latitude\": 54.28, \"NumberOfSurvivors\": 8000, \"Direction\": \"R\", \"Division\": 2}, {\"Longitude\": 24.7, \"Latitude\": 54.18, \"NumberOfSurvivors\": 4000, \"Direction\": \"R\", \"Division\": 2}, {\"Longitude\": 24.45, \"Latitude\": 55.550000000000004, \"NumberOfSurvivors\": 22000, \"Direction\": \"A\", \"Division\": 3}, {\"Longitude\": 25.05, \"Latitude\": 56.15, \"NumberOfSurvivors\": 6000, \"Direction\": \"A\", \"Division\": 3}], \"data-787bd53a9f24246575e9b4bae9d55dd0\": [{\"Longitude\": 37.6, \"Temperature\": 0.0, \"NumberOfDays\": 6.0, \"Month\": \"Oct\", \"Day\": 18.0}, {\"Longitude\": 36.0, \"Temperature\": 0.0, \"NumberOfDays\": 6.0, \"Month\": \"Oct\", \"Day\": 24.0}, {\"Longitude\": 33.2, \"Temperature\": -9.0, \"NumberOfDays\": 16.0, \"Month\": \"Nov\", \"Day\": 9.0}, {\"Longitude\": 32.0, \"Temperature\": -21.0, \"NumberOfDays\": 5.0, \"Month\": \"Nov\", \"Day\": 14.0}, {\"Longitude\": 29.2, \"Temperature\": -11.0, \"NumberOfDays\": 10.0, \"Month\": \"\", \"Day\": \"\"}, {\"Longitude\": 28.5, \"Temperature\": -20.0, \"NumberOfDays\": 4.0, \"Month\": \"Nov\", \"Day\": 28.0}, {\"Longitude\": 27.2, \"Temperature\": -24.0, \"NumberOfDays\": 3.0, \"Month\": \"Dec\", \"Day\": 1.0}, {\"Longitude\": 26.7, \"Temperature\": -30.0, \"NumberOfDays\": 5.0, \"Month\": \"Dec\", \"Day\": 6.0}, {\"Longitude\": 25.3, \"Temperature\": -26.0, \"NumberOfDays\": 1.0, \"Month\": \"Dec\", \"Day\": 7.0}]}}, {\"mode\": \"vega-lite\"});\n",
              "</script>"
            ]
          },
          "metadata": {
            "tags": []
          },
          "execution_count": 664
        }
      ]
    },
    {
      "cell_type": "code",
      "metadata": {
        "id": "g9j4cKCcHZKq",
        "colab_type": "code",
        "colab": {}
      },
      "source": [
        ""
      ],
      "execution_count": 0,
      "outputs": []
    }
  ]
}